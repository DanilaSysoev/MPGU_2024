{
 "cells": [
  {
   "cell_type": "markdown",
   "id": "780c3755-1f22-4114-b3f5-8b8e6f2579c5",
   "metadata": {},
   "source": [
    "### List"
   ]
  },
  {
   "cell_type": "markdown",
   "id": "6ba628a9-e930-411f-9abf-9a2635db0c98",
   "metadata": {},
   "source": [
    "С помощью генератора создать и вывести на экран следующие списки:\n",
    "* содержащий четные элементы из диапазона [1, 100]\n",
    "* содержащий кратные тройке элементы из диапазона [1, 100]\n",
    "* содержащий все пары чисел из диапазона [1, 5]\n",
    "* содержащий суммы всех четных со всеми нечетными из диапазона [1, 10]"
   ]
  },
  {
   "cell_type": "code",
   "execution_count": 1,
   "id": "b3308db4-8f67-49ea-83a1-5ce49816272a",
   "metadata": {},
   "outputs": [],
   "source": [
    "# Ваш код здесь"
   ]
  },
  {
   "cell_type": "markdown",
   "id": "5aebd7af-d87f-42d5-994c-2800f27ff903",
   "metadata": {},
   "source": [
    "### Dictionary\n",
    "1. Дана строка текст. Определить число вхождений каждого слова в данную строку"
   ]
  },
  {
   "cell_type": "markdown",
   "id": "cfba3367-98dd-4fdd-bc19-e70269365fba",
   "metadata": {},
   "source": [
    "2. Дана последовательность чисел (раделенных пробелами). посчитать для каждого числа его относитеьлный вклад в сумму всех чисел\n",
    "   Пример: числа [1, 1, 2, 3, 3], сумма 10. Вклад 1: (1 + 1) / 10 = 0.2, вклад 2: 2 / 10 = 0.2, вклад 3: (3 + 3) / 10 = 0.6"
   ]
  },
  {
   "cell_type": "code",
   "execution_count": null,
   "id": "3ee33f62-a9e0-4ea7-9bc5-efa29ace203b",
   "metadata": {},
   "outputs": [],
   "source": [
    "# 1. Ваш код здесь"
   ]
  },
  {
   "cell_type": "code",
   "execution_count": null,
   "id": "47249fb0-837f-4aa1-ad86-5db53927056f",
   "metadata": {},
   "outputs": [],
   "source": [
    "# 2. Ваш код здесь"
   ]
  },
  {
   "cell_type": "markdown",
   "id": "60a5318f-803e-4d15-9f60-4a8e63f42c79",
   "metadata": {},
   "source": [
    "## Функции\n",
    "1. Написать функцию, принимающую список и возвращающию список его префиксных сумм (это список, который в i-й ячейке хранит сумму элементов исходного списка от 0 до i-го включительно)\n",
    "3. Написать функцию, принимающую список и возвращающую словарь пар вида (f, t): s, где f - начало интервала, t - конец (включительно), s - сумма элементов интервала для всех возможных (f, t). Время работы алгоритма O(n^2)"
   ]
  },
  {
   "cell_type": "code",
   "execution_count": null,
   "id": "48a2826c-4e38-4f80-b890-d770f2a74e10",
   "metadata": {},
   "outputs": [],
   "source": [
    "# 1. Ваш код здесь"
   ]
  },
  {
   "cell_type": "code",
   "execution_count": null,
   "id": "3f1023d7-e78c-4f5b-b2ef-20b9dfabae86",
   "metadata": {},
   "outputs": [],
   "source": [
    "# 2. Ваш код здесь"
   ]
  }
 ],
 "metadata": {
  "kernelspec": {
   "display_name": "Python 3 (ipykernel)",
   "language": "python",
   "name": "python3"
  },
  "language_info": {
   "codemirror_mode": {
    "name": "ipython",
    "version": 3
   },
   "file_extension": ".py",
   "mimetype": "text/x-python",
   "name": "python",
   "nbconvert_exporter": "python",
   "pygments_lexer": "ipython3",
   "version": "3.10.12"
  }
 },
 "nbformat": 4,
 "nbformat_minor": 5
}

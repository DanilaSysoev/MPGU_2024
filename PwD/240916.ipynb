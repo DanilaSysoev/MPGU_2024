{
 "cells": [
  {
   "cell_type": "code",
   "execution_count": 1,
   "id": "dd12ca96-cce0-4164-bd91-266445c8d133",
   "metadata": {},
   "outputs": [],
   "source": [
    "import numpy as np"
   ]
  },
  {
   "cell_type": "code",
   "execution_count": 2,
   "id": "cd30094f-19a0-4ac1-a8c1-08b6b96d59bf",
   "metadata": {},
   "outputs": [],
   "source": [
    "arr1 = np.array([1, 2, 3, 4, 5])"
   ]
  },
  {
   "cell_type": "code",
   "execution_count": 3,
   "id": "d31b992f-30b5-4a06-918c-ef59d72418ba",
   "metadata": {},
   "outputs": [
    {
     "data": {
      "text/plain": [
       "array([1, 2, 3, 4, 5])"
      ]
     },
     "execution_count": 3,
     "metadata": {},
     "output_type": "execute_result"
    }
   ],
   "source": [
    "arr1"
   ]
  },
  {
   "cell_type": "code",
   "execution_count": 25,
   "id": "7be5445e-f237-4263-990b-1ea78922940a",
   "metadata": {},
   "outputs": [],
   "source": [
    "data = np.arange(100)"
   ]
  },
  {
   "cell_type": "code",
   "execution_count": 26,
   "id": "b05c7ab6-087d-4c0e-b06b-7978ac47a1df",
   "metadata": {},
   "outputs": [
    {
     "data": {
      "text/plain": [
       "array([ 0,  1,  2,  3,  4,  5,  6,  7,  8,  9, 10, 11, 12, 13, 14, 15, 16,\n",
       "       17, 18, 19, 20, 21, 22, 23, 24, 25, 26, 27, 28, 29, 30, 31, 32, 33,\n",
       "       34, 35, 36, 37, 38, 39, 40, 41, 42, 43, 44, 45, 46, 47, 48, 49, 50,\n",
       "       51, 52, 53, 54, 55, 56, 57, 58, 59, 60, 61, 62, 63, 64, 65, 66, 67,\n",
       "       68, 69, 70, 71, 72, 73, 74, 75, 76, 77, 78, 79, 80, 81, 82, 83, 84,\n",
       "       85, 86, 87, 88, 89, 90, 91, 92, 93, 94, 95, 96, 97, 98, 99])"
      ]
     },
     "execution_count": 26,
     "metadata": {},
     "output_type": "execute_result"
    }
   ],
   "source": [
    "data"
   ]
  },
  {
   "cell_type": "code",
   "execution_count": 27,
   "id": "c9d5434f-9804-4781-a48c-b7c1c186f088",
   "metadata": {},
   "outputs": [
    {
     "name": "stdout",
     "output_type": "stream",
     "text": [
      "0 1 2 3 4 5 6 7 8 9 10 11 12 13 14 15 16 17 18 19 20 21 22 23 24 25 26 27 28 29 30 31 32 33 34 35 36 37 38 39 40 41 42 43 44 45 46 47 48 49 50 51 52 53 54 55 56 57 58 59 60 61 62 63 64 65 66 67 68 69 70 71 72 73 74 75 76 77 78 79 80 81 82 83 84 85 86 87 88 89 90 91 92 93 94 95 96 97 98 99 "
     ]
    }
   ],
   "source": [
    "for i in range(len(data)):\n",
    "    print(data[i], end=' ')"
   ]
  },
  {
   "cell_type": "code",
   "execution_count": 28,
   "id": "7b4678fe-b750-40e7-817a-babb79684bbe",
   "metadata": {},
   "outputs": [],
   "source": [
    "for i in range(len(data)):\n",
    "    data[i] = data[i] + i"
   ]
  },
  {
   "cell_type": "code",
   "execution_count": 29,
   "id": "bed74e3e-a202-44ca-92ef-76e9c72f1be1",
   "metadata": {},
   "outputs": [
    {
     "data": {
      "text/plain": [
       "array([  0,   2,   4,   6,   8,  10,  12,  14,  16,  18,  20,  22,  24,\n",
       "        26,  28,  30,  32,  34,  36,  38,  40,  42,  44,  46,  48,  50,\n",
       "        52,  54,  56,  58,  60,  62,  64,  66,  68,  70,  72,  74,  76,\n",
       "        78,  80,  82,  84,  86,  88,  90,  92,  94,  96,  98, 100, 102,\n",
       "       104, 106, 108, 110, 112, 114, 116, 118, 120, 122, 124, 126, 128,\n",
       "       130, 132, 134, 136, 138, 140, 142, 144, 146, 148, 150, 152, 154,\n",
       "       156, 158, 160, 162, 164, 166, 168, 170, 172, 174, 176, 178, 180,\n",
       "       182, 184, 186, 188, 190, 192, 194, 196, 198])"
      ]
     },
     "execution_count": 29,
     "metadata": {},
     "output_type": "execute_result"
    }
   ],
   "source": [
    "data"
   ]
  },
  {
   "cell_type": "code",
   "execution_count": 30,
   "id": "94665521-e063-4d83-a629-25a575705e57",
   "metadata": {},
   "outputs": [],
   "source": [
    "d1 = data[40:]"
   ]
  },
  {
   "cell_type": "code",
   "execution_count": 31,
   "id": "baf56c24-91e7-4064-b269-a7e3d69f0200",
   "metadata": {},
   "outputs": [
    {
     "data": {
      "text/plain": [
       "array([ 80,  82,  84,  86,  88,  90,  92,  94,  96,  98, 100, 102, 104,\n",
       "       106, 108, 110, 112, 114, 116, 118, 120, 122, 124, 126, 128, 130,\n",
       "       132, 134, 136, 138, 140, 142, 144, 146, 148, 150, 152, 154, 156,\n",
       "       158, 160, 162, 164, 166, 168, 170, 172, 174, 176, 178, 180, 182,\n",
       "       184, 186, 188, 190, 192, 194, 196, 198])"
      ]
     },
     "execution_count": 31,
     "metadata": {},
     "output_type": "execute_result"
    }
   ],
   "source": [
    "d1"
   ]
  },
  {
   "cell_type": "code",
   "execution_count": 32,
   "id": "650e5589-613b-4e74-a143-5ee292d5534a",
   "metadata": {},
   "outputs": [
    {
     "data": {
      "text/plain": [
       "array([40, 42, 44, 46, 48, 50, 52, 54, 56, 58])"
      ]
     },
     "execution_count": 32,
     "metadata": {},
     "output_type": "execute_result"
    }
   ],
   "source": [
    "d2 = data[20:30]\n",
    "d2"
   ]
  },
  {
   "cell_type": "code",
   "execution_count": 33,
   "id": "5b96b187-e7a3-4205-a887-3cf40e562b88",
   "metadata": {},
   "outputs": [],
   "source": [
    "d3 = data[30:50:5]"
   ]
  },
  {
   "cell_type": "code",
   "execution_count": 34,
   "id": "7837f254-5131-467d-8c88-2f1f407ad0df",
   "metadata": {},
   "outputs": [
    {
     "data": {
      "text/plain": [
       "array([60, 70, 80, 90])"
      ]
     },
     "execution_count": 34,
     "metadata": {},
     "output_type": "execute_result"
    }
   ],
   "source": [
    "d3"
   ]
  },
  {
   "cell_type": "code",
   "execution_count": 35,
   "id": "79afac9d-f7b6-4c15-98ef-22c3d81f741d",
   "metadata": {},
   "outputs": [
    {
     "data": {
      "text/plain": [
       "array([ 60,  70,  80,  90, 100, 110, 120, 130, 140, 150, 160, 170, 180,\n",
       "       190])"
      ]
     },
     "execution_count": 35,
     "metadata": {},
     "output_type": "execute_result"
    }
   ],
   "source": [
    "d4 = data[30::5].copy()\n",
    "d4"
   ]
  },
  {
   "cell_type": "code",
   "execution_count": 36,
   "id": "d3837eb6-d301-4075-a8a3-e0d562df099a",
   "metadata": {},
   "outputs": [],
   "source": [
    "data[30] = 1000"
   ]
  },
  {
   "cell_type": "code",
   "execution_count": 37,
   "id": "9585bed3-bdff-482d-9e3f-5635d0ecd444",
   "metadata": {},
   "outputs": [
    {
     "data": {
      "text/plain": [
       "array([ 60,  70,  80,  90, 100, 110, 120, 130, 140, 150, 160, 170, 180,\n",
       "       190])"
      ]
     },
     "execution_count": 37,
     "metadata": {},
     "output_type": "execute_result"
    }
   ],
   "source": [
    "d4"
   ]
  },
  {
   "cell_type": "code",
   "execution_count": 38,
   "id": "0970452b-e010-4037-9074-c0b447e8444e",
   "metadata": {},
   "outputs": [],
   "source": [
    "import copy\n",
    "d_deep = copy.deepcopy(data)"
   ]
  },
  {
   "cell_type": "code",
   "execution_count": 39,
   "id": "ed0bf18e-49dd-43ef-a057-9a3f22b43c62",
   "metadata": {},
   "outputs": [
    {
     "data": {
      "text/plain": [
       "array([   0,    2,    4,    6,    8,   10,   12,   14,   16,   18,   20,\n",
       "         22,   24,   26,   28,   30,   32,   34,   36,   38,   40,   42,\n",
       "         44,   46,   48,   50,   52,   54,   56,   58, 1000,   62,   64,\n",
       "         66,   68,   70,   72,   74,   76,   78,   80,   82,   84,   86,\n",
       "         88,   90,   92,   94,   96,   98,  100,  102,  104,  106,  108,\n",
       "        110,  112,  114,  116,  118,  120,  122,  124,  126,  128,  130,\n",
       "        132,  134,  136,  138,  140,  142,  144,  146,  148,  150,  152,\n",
       "        154,  156,  158,  160,  162,  164,  166,  168,  170,  172,  174,\n",
       "        176,  178,  180,  182,  184,  186,  188,  190,  192,  194,  196,\n",
       "        198])"
      ]
     },
     "execution_count": 39,
     "metadata": {},
     "output_type": "execute_result"
    }
   ],
   "source": [
    "d_deep"
   ]
  },
  {
   "cell_type": "code",
   "execution_count": 40,
   "id": "0004e699-f7f3-488a-a515-52ac67428c17",
   "metadata": {},
   "outputs": [
    {
     "name": "stdout",
     "output_type": "stream",
     "text": [
      "0 2 4 6 8 10 12 14 16 18 20 22 24 26 28 30 32 34 36 38 40 42 44 46 48 50 52 54 56 58 1000 62 64 66 68 70 72 74 76 78 80 82 84 86 88 90 92 94 96 98 100 102 104 106 108 110 112 114 116 118 120 122 124 126 128 130 132 134 136 138 140 142 144 146 148 150 152 154 156 158 160 162 164 166 168 170 172 174 176 178 180 182 184 186 188 190 192 194 196 198 "
     ]
    }
   ],
   "source": [
    "for d in data:\n",
    "    print(d, end=' ')"
   ]
  },
  {
   "cell_type": "code",
   "execution_count": 41,
   "id": "15eec212-9060-4370-9219-001b71467e51",
   "metadata": {},
   "outputs": [],
   "source": [
    "data = np.arange(100)"
   ]
  },
  {
   "cell_type": "code",
   "execution_count": 42,
   "id": "a831ef86-9e0f-46dd-afe8-1e86a2e24573",
   "metadata": {},
   "outputs": [
    {
     "data": {
      "text/plain": [
       "array([ 0,  1,  2,  0,  4,  5,  0,  7,  8,  0, 10, 11,  0, 13, 14,  0, 16,\n",
       "       17,  0, 19, 20,  0, 22, 23,  0, 25, 26,  0, 28, 29,  0, 31, 32,  0,\n",
       "       34, 35,  0, 37, 38,  0, 40, 41,  0, 43, 44,  0, 46, 47,  0, 49, 50,\n",
       "        0, 52, 53,  0, 55, 56,  0, 58, 59,  0, 61, 62,  0, 64, 65,  0, 67,\n",
       "       68,  0, 70, 71,  0, 73, 74,  0, 76, 77,  0, 79, 80,  0, 82, 83,  0,\n",
       "       85, 86,  0, 88, 89,  0, 91, 92,  0, 94, 95,  0, 97, 98,  0])"
      ]
     },
     "execution_count": 42,
     "metadata": {},
     "output_type": "execute_result"
    }
   ],
   "source": [
    "data[::3] = 0\n",
    "data"
   ]
  },
  {
   "cell_type": "code",
   "execution_count": 43,
   "id": "be8f8305-6b4f-4d45-b317-51e5f45c4bd8",
   "metadata": {},
   "outputs": [
    {
     "data": {
      "text/plain": [
       "(100,)"
      ]
     },
     "execution_count": 43,
     "metadata": {},
     "output_type": "execute_result"
    }
   ],
   "source": [
    "data.shape"
   ]
  },
  {
   "cell_type": "code",
   "execution_count": 49,
   "id": "768bb10a-5f5b-42d0-93e5-941baef332e9",
   "metadata": {},
   "outputs": [],
   "source": [
    "dr1 = data.reshape((4, 25))"
   ]
  },
  {
   "cell_type": "code",
   "execution_count": 50,
   "id": "f120324f-e73b-4193-b6d6-b0c4e0a38c6c",
   "metadata": {},
   "outputs": [
    {
     "data": {
      "text/plain": [
       "array([[ 0,  1,  2,  0,  4,  5,  0,  7,  8,  0, 10, 11,  0, 13, 14,  0,\n",
       "        16, 17,  0, 19, 20,  0, 22, 23,  0],\n",
       "       [25, 26,  0, 28, 29,  0, 31, 32,  0, 34, 35,  0, 37, 38,  0, 40,\n",
       "        41,  0, 43, 44,  0, 46, 47,  0, 49],\n",
       "       [50,  0, 52, 53,  0, 55, 56,  0, 58, 59,  0, 61, 62,  0, 64, 65,\n",
       "         0, 67, 68,  0, 70, 71,  0, 73, 74],\n",
       "       [ 0, 76, 77,  0, 79, 80,  0, 82, 83,  0, 85, 86,  0, 88, 89,  0,\n",
       "        91, 92,  0, 94, 95,  0, 97, 98,  0]])"
      ]
     },
     "execution_count": 50,
     "metadata": {},
     "output_type": "execute_result"
    }
   ],
   "source": [
    "dr1"
   ]
  },
  {
   "cell_type": "code",
   "execution_count": 51,
   "id": "e2504dc0-f311-4c9f-8b8e-b38b029053b0",
   "metadata": {},
   "outputs": [],
   "source": [
    "data[::10] = 10000"
   ]
  },
  {
   "cell_type": "code",
   "execution_count": 52,
   "id": "831797a9-3fd3-4898-b34a-117896dad0a7",
   "metadata": {},
   "outputs": [
    {
     "data": {
      "text/plain": [
       "array([[10000,     1,     2,     0,     4,     5,     0,     7,     8,\n",
       "            0, 10000,    11,     0,    13,    14,     0,    16,    17,\n",
       "            0,    19, 10000,     0,    22,    23,     0],\n",
       "       [   25,    26,     0,    28,    29, 10000,    31,    32,     0,\n",
       "           34,    35,     0,    37,    38,     0, 10000,    41,     0,\n",
       "           43,    44,     0,    46,    47,     0,    49],\n",
       "       [10000,     0,    52,    53,     0,    55,    56,     0,    58,\n",
       "           59, 10000,    61,    62,     0,    64,    65,     0,    67,\n",
       "           68,     0, 10000,    71,     0,    73,    74],\n",
       "       [    0,    76,    77,     0,    79, 10000,     0,    82,    83,\n",
       "            0,    85,    86,     0,    88,    89, 10000,    91,    92,\n",
       "            0,    94,    95,     0,    97,    98,     0]])"
      ]
     },
     "execution_count": 52,
     "metadata": {},
     "output_type": "execute_result"
    }
   ],
   "source": [
    "dr1"
   ]
  },
  {
   "cell_type": "code",
   "execution_count": 55,
   "id": "37baec53-aa9c-41ff-ba42-e45ac9b28335",
   "metadata": {},
   "outputs": [
    {
     "data": {
      "text/plain": [
       "array([[10000,     1,     2,     0,     4,     5,     0,     7,     8,\n",
       "            0, 10000,    11,     0,    13,    14,     0,    16,    17,\n",
       "            0,    19, 10000,     0,    22,    23,     0],\n",
       "       [   25,    26,     0,    28,    29, 10000,    31,    32,     0,\n",
       "           34,    35,     0,    37,    38,     0, 10000,    41,     0,\n",
       "           43,    44,     0,    46,    47,     0,    49],\n",
       "       [10000,     0,    52,    53,     0,    55,    56,     0,    58,\n",
       "           59, 10000,    61,    62,     0,    64,    65,     0,    67,\n",
       "           68,     0, 10000,    71,     0,    73,    74],\n",
       "       [    0,    76,    77,     0,    79, 10000,     0,    82,    83,\n",
       "            0,    85,    86, -1000,    88,    89, 10000,    91,    92,\n",
       "            0,    94,    95,     0,    97,    98,     0]])"
      ]
     },
     "execution_count": 55,
     "metadata": {},
     "output_type": "execute_result"
    }
   ],
   "source": [
    "dr1[3, 12] = -1000\n",
    "dr1"
   ]
  },
  {
   "cell_type": "code",
   "execution_count": 57,
   "id": "83f2769a-0a3e-4e42-a1c1-557f2264db81",
   "metadata": {},
   "outputs": [
    {
     "data": {
      "text/plain": [
       "array([[   20,     1,     2,     0,    20,     5,     0,     7,    20,\n",
       "            0, 10000,    11,    20,    13,    14,     0,    20,    17,\n",
       "            0,    19,    20,     0,    22,    23,    20],\n",
       "       [   25,    26,     0,    28,    29, 10000,    31,    32,     0,\n",
       "           34,    35,     0,    37,    38,     0, 10000,    41,     0,\n",
       "           43,    44,     0,    46,    47,     0,    49],\n",
       "       [   20,     0,    52,    53,    20,    55,    56,     0,    20,\n",
       "           59, 10000,    61,    20,     0,    64,    65,    20,    67,\n",
       "           68,     0,    20,    71,     0,    73,    20],\n",
       "       [    0,    76,    77,     0,    79, 10000,     0,    82,    83,\n",
       "            0,    85,    86, -1000,    88,    89, 10000,    91,    92,\n",
       "            0,    94,    95,     0,    97,    98,     0]])"
      ]
     },
     "execution_count": 57,
     "metadata": {},
     "output_type": "execute_result"
    }
   ],
   "source": [
    "dr1[::2, ::4] = 20\n",
    "dr1"
   ]
  },
  {
   "cell_type": "code",
   "execution_count": 62,
   "id": "7bdb76e5-40ce-4ca0-84c4-695e6a710441",
   "metadata": {},
   "outputs": [
    {
     "data": {
      "text/plain": [
       "array([[   20,     1,     2,     0,    20,     5,     0,     7,    20,\n",
       "            0, 10000,    11,    20,    13,    14,     0,    20,    17,\n",
       "            0,    19,    20,     0,    22,    23,    20,    25,    26,\n",
       "            0,    28,    29, 10000,    31,    32,     0,    34,    35,\n",
       "            0,    37,    38,     0, 10000,    41,     0,    43,    44,\n",
       "            0,    46,    47,     0,    49,    20,     0,    52,    53,\n",
       "           20,    55,    56,     0,    20,    59, 10000,    61,    20,\n",
       "            0,    64,    65,    20,    67,    68,     0,    20,    71,\n",
       "            0,    73,    20,     0,    76,    77,     0,    79, 10000,\n",
       "            0,    82,    83,     0,    85,    86, -1000,    88,    89,\n",
       "        10000,    91,    92,     0,    94,    95,     0,    97,    98,\n",
       "            0]])"
      ]
     },
     "execution_count": 62,
     "metadata": {},
     "output_type": "execute_result"
    }
   ],
   "source": [
    "dr2 = data.reshape((1, 100))\n",
    "dr2"
   ]
  },
  {
   "cell_type": "code",
   "execution_count": 64,
   "id": "c9feb2de-bcd0-4671-a0ea-c1ffde16ccda",
   "metadata": {},
   "outputs": [
    {
     "data": {
      "text/plain": [
       "array([[20],\n",
       "       [ 1],\n",
       "       [ 2],\n",
       "       [ 0],\n",
       "       [20],\n",
       "       [ 5],\n",
       "       [ 0],\n",
       "       [ 7],\n",
       "       [20],\n",
       "       [ 0]])"
      ]
     },
     "execution_count": 64,
     "metadata": {},
     "output_type": "execute_result"
    }
   ],
   "source": [
    "dr3 = data.reshape(100, 1)\n",
    "dr3[:10]"
   ]
  },
  {
   "cell_type": "code",
   "execution_count": 65,
   "id": "248fb10d-42fe-40af-af2c-748567154852",
   "metadata": {},
   "outputs": [],
   "source": [
    "data = np.arange(12)"
   ]
  },
  {
   "cell_type": "code",
   "execution_count": 66,
   "id": "084cb023-a2a2-423e-9cac-59c2ea8a9018",
   "metadata": {},
   "outputs": [
    {
     "data": {
      "text/plain": [
       "array([[ 0,  1,  2,  3],\n",
       "       [ 4,  5,  6,  7],\n",
       "       [ 8,  9, 10, 11]])"
      ]
     },
     "execution_count": 66,
     "metadata": {},
     "output_type": "execute_result"
    }
   ],
   "source": [
    "m = data.reshape(3, 4)\n",
    "m"
   ]
  },
  {
   "cell_type": "code",
   "execution_count": 70,
   "id": "255ef2d5-6706-4649-80c7-8ecc05d2b78e",
   "metadata": {},
   "outputs": [
    {
     "data": {
      "text/plain": [
       "array([[ 0,  1,  2,  3],\n",
       "       [ 4,  5,  6,  7],\n",
       "       [ 8,  9, 10, 11]])"
      ]
     },
     "execution_count": 70,
     "metadata": {},
     "output_type": "execute_result"
    }
   ],
   "source": [
    "data2 = np.arange(12)\n",
    "m2 = data2.reshape(3, 4)\n",
    "m2"
   ]
  },
  {
   "cell_type": "code",
   "execution_count": 72,
   "id": "06a65a9d-634d-47b1-a299-3dd989b32f46",
   "metadata": {},
   "outputs": [
    {
     "data": {
      "text/plain": [
       "array([[  0,   1,   4,   9],\n",
       "       [ 16,  25,  36,  49],\n",
       "       [ 64,  81, 100, 121]])"
      ]
     },
     "execution_count": 72,
     "metadata": {},
     "output_type": "execute_result"
    }
   ],
   "source": [
    "m * m2"
   ]
  },
  {
   "cell_type": "code",
   "execution_count": 73,
   "id": "0787088a-09e0-47c2-bf2d-97d914e36b33",
   "metadata": {},
   "outputs": [
    {
     "data": {
      "text/plain": [
       "array([[ 0,  2,  4,  6],\n",
       "       [ 8, 10, 12, 14],\n",
       "       [16, 18, 20, 22]])"
      ]
     },
     "execution_count": 73,
     "metadata": {},
     "output_type": "execute_result"
    }
   ],
   "source": [
    "m + m2"
   ]
  },
  {
   "cell_type": "code",
   "execution_count": 74,
   "id": "18ba5c9d-cec9-4a68-8ed8-b502e0bb1ee8",
   "metadata": {},
   "outputs": [
    {
     "data": {
      "text/plain": [
       "array([[0, 0, 0, 0],\n",
       "       [0, 0, 0, 0],\n",
       "       [0, 0, 0, 0]])"
      ]
     },
     "execution_count": 74,
     "metadata": {},
     "output_type": "execute_result"
    }
   ],
   "source": [
    "m - m2"
   ]
  },
  {
   "cell_type": "code",
   "execution_count": 75,
   "id": "3101ea91-6527-42b3-b156-5e8730371bf7",
   "metadata": {},
   "outputs": [
    {
     "data": {
      "text/plain": [
       "array([[           1,            1,            4,           27],\n",
       "       [         256,         3125,        46656,       823543],\n",
       "       [    16777216,    387420489,  10000000000, 285311670611]])"
      ]
     },
     "execution_count": 75,
     "metadata": {},
     "output_type": "execute_result"
    }
   ],
   "source": [
    "m ** m2"
   ]
  },
  {
   "cell_type": "code",
   "execution_count": 76,
   "id": "25900bc8-98ca-436d-8826-5164e09dedb4",
   "metadata": {},
   "outputs": [],
   "source": [
    "m3 = m2.reshape(4, 3)"
   ]
  },
  {
   "cell_type": "code",
   "execution_count": 78,
   "id": "86c41daf-1c6c-45ba-b261-797e9e1bdaa2",
   "metadata": {},
   "outputs": [
    {
     "data": {
      "text/plain": [
       "array([[ 42,  48,  54],\n",
       "       [114, 136, 158],\n",
       "       [186, 224, 262]])"
      ]
     },
     "execution_count": 78,
     "metadata": {},
     "output_type": "execute_result"
    }
   ],
   "source": [
    "np.matmul(m, m3)"
   ]
  },
  {
   "cell_type": "code",
   "execution_count": 79,
   "id": "bafcd12a-6321-44cd-ba79-77878ad0c305",
   "metadata": {},
   "outputs": [
    {
     "data": {
      "text/plain": [
       "array([[56, 56],\n",
       "       [69, 49]])"
      ]
     },
     "execution_count": 79,
     "metadata": {},
     "output_type": "execute_result"
    }
   ],
   "source": [
    "np.matmul(np.array([3, 5, 7, 1, 8, 2]).reshape(2, 3),\n",
    "          np.array([3, 1, 8, 5, 1, 4]).reshape(3, 2))"
   ]
  },
  {
   "cell_type": "code",
   "execution_count": 80,
   "id": "fff86be3-1b79-4401-93d2-2daf1d2d1f8b",
   "metadata": {},
   "outputs": [
    {
     "data": {
      "text/plain": [
       "array([0., 0., 0., 0., 0., 0., 0., 0., 0., 0.])"
      ]
     },
     "execution_count": 80,
     "metadata": {},
     "output_type": "execute_result"
    }
   ],
   "source": [
    "np.zeros(10)"
   ]
  },
  {
   "cell_type": "code",
   "execution_count": 87,
   "id": "84dae5b0-5a54-43f9-aee7-1af159dd484c",
   "metadata": {},
   "outputs": [
    {
     "data": {
      "text/plain": [
       "array(['', '', '', '', '', '', '', '', '', ''], dtype='<U1')"
      ]
     },
     "execution_count": 87,
     "metadata": {},
     "output_type": "execute_result"
    }
   ],
   "source": [
    "np.zeros(10, dtype=str)"
   ]
  },
  {
   "cell_type": "code",
   "execution_count": 88,
   "id": "ae1054bf-4143-4991-b244-8ca26de92e8e",
   "metadata": {},
   "outputs": [
    {
     "data": {
      "text/plain": [
       "array([0., 0., 0., 0., 0., 0., 0., 0., 0., 0.])"
      ]
     },
     "execution_count": 88,
     "metadata": {},
     "output_type": "execute_result"
    }
   ],
   "source": [
    "np.zeros(10, dtype=float)"
   ]
  },
  {
   "cell_type": "code",
   "execution_count": 89,
   "id": "d9b9b799-1841-496b-86de-801df0ee818c",
   "metadata": {},
   "outputs": [
    {
     "data": {
      "text/plain": [
       "array([0, 0, 0, 0, 0, 0, 0, 0, 0, 0])"
      ]
     },
     "execution_count": 89,
     "metadata": {},
     "output_type": "execute_result"
    }
   ],
   "source": [
    "np.zeros(10, dtype=np.int64)"
   ]
  },
  {
   "cell_type": "code",
   "execution_count": 92,
   "id": "6e98b4b9-6483-4744-ab64-04e7bb6567fa",
   "metadata": {},
   "outputs": [],
   "source": [
    "n = np.array([np.nan] * 10)"
   ]
  },
  {
   "cell_type": "code",
   "execution_count": 93,
   "id": "3b400768-3ddc-46fb-bdde-622c01232cf5",
   "metadata": {},
   "outputs": [
    {
     "data": {
      "text/plain": [
       "True"
      ]
     },
     "execution_count": 93,
     "metadata": {},
     "output_type": "execute_result"
    }
   ],
   "source": [
    "np.isnan(n[1])"
   ]
  },
  {
   "cell_type": "code",
   "execution_count": 95,
   "id": "b5b59d28-87ae-41c8-a248-9e8cee55d736",
   "metadata": {},
   "outputs": [],
   "source": [
    "rng = np.random.default_rng()"
   ]
  },
  {
   "cell_type": "code",
   "execution_count": 96,
   "id": "3127d0ed-c684-47bf-a60b-968968a23718",
   "metadata": {},
   "outputs": [
    {
     "data": {
      "text/plain": [
       "array([16, 16, 15, 18, 18, 12, 10, 19, 11, 15])"
      ]
     },
     "execution_count": 96,
     "metadata": {},
     "output_type": "execute_result"
    }
   ],
   "source": [
    "rng.integers(low=10, high=20, size=10)"
   ]
  },
  {
   "cell_type": "code",
   "execution_count": 100,
   "id": "4636f194-40e3-48c2-b40b-fc45269c0fae",
   "metadata": {},
   "outputs": [
    {
     "data": {
      "text/plain": [
       "array([10.47875589, 11.33461248, 12.09773613,  8.36107372, 12.7816129 ,\n",
       "       11.26107958, 10.71102056,  8.57667907, 10.64284559, 11.46066357])"
      ]
     },
     "execution_count": 100,
     "metadata": {},
     "output_type": "execute_result"
    }
   ],
   "source": [
    "rng.normal(loc=10, scale=2, size=10)"
   ]
  },
  {
   "cell_type": "code",
   "execution_count": 102,
   "id": "4f8e661f-8576-47ea-8780-f6b4d3ec4f7b",
   "metadata": {},
   "outputs": [
    {
     "data": {
      "text/plain": [
       "array([0.27116061, 0.39537326, 0.23951622, 3.097945  , 0.67033323,\n",
       "       0.25968795, 2.41001377, 3.65468436, 1.0163761 , 0.32412048])"
      ]
     },
     "execution_count": 102,
     "metadata": {},
     "output_type": "execute_result"
    }
   ],
   "source": [
    "rng.exponential(size=10)"
   ]
  },
  {
   "cell_type": "code",
   "execution_count": 105,
   "id": "23f81e70-780b-46f1-916b-64abcd6b4238",
   "metadata": {},
   "outputs": [
    {
     "data": {
      "text/plain": [
       "(array([  15,  127,  706, 1924, 3051, 2561, 1237,  342,   32,    5]),\n",
       " array([ 2.42127707,  4.0142252 ,  5.60717334,  7.20012147,  8.7930696 ,\n",
       "        10.38601773, 11.97896587, 13.571914  , 15.16486213, 16.75781027,\n",
       "        18.3507584 ]))"
      ]
     },
     "execution_count": 105,
     "metadata": {},
     "output_type": "execute_result"
    }
   ],
   "source": [
    "np.histogram(rng.normal(loc=10, scale=2, size=10000))"
   ]
  },
  {
   "cell_type": "code",
   "execution_count": 106,
   "id": "b185e8fd-1068-4ae7-a022-449d3dfeb2b0",
   "metadata": {},
   "outputs": [
    {
     "data": {
      "text/plain": [
       "(array([6171, 2302,  921,  348,  173,   46,   21,   12,    3,    3]),\n",
       " array([3.53531152e-04, 9.48225011e-01, 1.89609649e+00, 2.84396797e+00,\n",
       "        3.79183945e+00, 4.73971093e+00, 5.68758241e+00, 6.63545389e+00,\n",
       "        7.58332537e+00, 8.53119685e+00, 9.47906833e+00]))"
      ]
     },
     "execution_count": 106,
     "metadata": {},
     "output_type": "execute_result"
    }
   ],
   "source": [
    "np.histogram(rng.exponential(size=10000))"
   ]
  },
  {
   "cell_type": "code",
   "execution_count": 107,
   "id": "274b7627-4824-4779-ab33-be69d51fa900",
   "metadata": {},
   "outputs": [
    {
     "data": {
      "text/plain": [
       "array([1., 1., 1., 1., 1., 1., 1., 1., 1., 1., 1., 1., 1., 1., 1., 1., 1.,\n",
       "       1., 1., 1., 1., 1., 1., 1., 1., 1., 1., 1., 1., 1., 1., 1., 1., 1.,\n",
       "       1., 1., 1., 1., 1., 1., 1., 1., 1., 1., 1., 1., 1., 1., 1., 1., 1.,\n",
       "       1., 1., 1., 1., 1., 1., 1., 1., 1., 1., 1., 1., 1., 1., 1., 1., 1.,\n",
       "       1., 1., 1., 1., 1., 1., 1., 1., 1., 1., 1., 1., 1., 1., 1., 1., 1.,\n",
       "       1., 1., 1., 1., 1., 1., 1., 1., 1., 1., 1., 1., 1., 1., 1.])"
      ]
     },
     "execution_count": 107,
     "metadata": {},
     "output_type": "execute_result"
    }
   ],
   "source": [
    "np.ones(100)"
   ]
  },
  {
   "cell_type": "code",
   "execution_count": 110,
   "id": "ce133337-00b7-4200-ad87-062b2a075eb9",
   "metadata": {},
   "outputs": [
    {
     "data": {
      "text/plain": [
       "(array([1014,  982, 1017, 1008, 1067,  991,  997, 1007,  973,  944]),\n",
       " array([5.55977106e-06, 1.00002827e-01, 2.00000095e-01, 2.99997362e-01,\n",
       "        3.99994630e-01, 4.99991897e-01, 5.99989165e-01, 6.99986432e-01,\n",
       "        7.99983699e-01, 8.99980967e-01, 9.99978234e-01]))"
      ]
     },
     "execution_count": 110,
     "metadata": {},
     "output_type": "execute_result"
    }
   ],
   "source": [
    "np.histogram(rng.uniform(size=10000))"
   ]
  },
  {
   "cell_type": "code",
   "execution_count": null,
   "id": "b9b3ae4c-cbab-4aee-a42f-e8098991ec1e",
   "metadata": {},
   "outputs": [],
   "source": []
  }
 ],
 "metadata": {
  "kernelspec": {
   "display_name": "Python 3 (ipykernel)",
   "language": "python",
   "name": "python3"
  },
  "language_info": {
   "codemirror_mode": {
    "name": "ipython",
    "version": 3
   },
   "file_extension": ".py",
   "mimetype": "text/x-python",
   "name": "python",
   "nbconvert_exporter": "python",
   "pygments_lexer": "ipython3",
   "version": "3.10.12"
  }
 },
 "nbformat": 4,
 "nbformat_minor": 5
}

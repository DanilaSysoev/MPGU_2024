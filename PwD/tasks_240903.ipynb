{
 "cells": [
  {
   "cell_type": "markdown",
   "id": "509948be-0977-41f0-a499-c2d512d86a3e",
   "metadata": {},
   "source": [
    "1.\n",
    "   Даны три цеых числа, по одной в строке. Найти максимально из них. Функцией max пользоваться запрещено."
   ]
  },
  {
   "cell_type": "code",
   "execution_count": null,
   "id": "d7c20b0c-ebea-465d-a7ae-bc78aed9f52a",
   "metadata": {},
   "outputs": [],
   "source": []
  },
  {
   "cell_type": "markdown",
   "id": "48efd930-6f2e-493a-a1b3-01af07d426d1",
   "metadata": {},
   "source": [
    "2. Дано действительное число. Вывести строку \"Положительное\" если оно положительное, строку \"Отрицательное\", если отрицательное и строку \"Ноль\", если число равно нулю."
   ]
  },
  {
   "cell_type": "code",
   "execution_count": null,
   "id": "7ea25950-decc-49ef-b280-ee6dcaf2495c",
   "metadata": {},
   "outputs": [],
   "source": []
  },
  {
   "cell_type": "markdown",
   "id": "019af2a6-c849-4d42-9185-18ad6901d11d",
   "metadata": {},
   "source": [
    "3. Дано трехзначное положительно целое число. Найти сумму его цифр."
   ]
  },
  {
   "cell_type": "code",
   "execution_count": null,
   "id": "64ac65a3-a090-453b-8100-5d2fc68f5038",
   "metadata": {},
   "outputs": [],
   "source": []
  },
  {
   "cell_type": "markdown",
   "id": "267ec265-3d34-4c86-ae72-7a46323c83ff",
   "metadata": {},
   "source": [
    "4. Дано пятизначное цело положительное число. Найти его максимальную цифру."
   ]
  },
  {
   "cell_type": "code",
   "execution_count": null,
   "id": "832c5c22-2884-49f0-8541-ea063d3b722c",
   "metadata": {},
   "outputs": [],
   "source": []
  },
  {
   "cell_type": "markdown",
   "id": "7bd5ca71-e21a-472c-ad54-bb7ca2689907",
   "metadata": {},
   "source": [
    "5. Дано два целых числа a и b , разделенных пробелом. Вывести инормацию о результате всех арифметических операций над данными числами в формате\n",
    "\n",
    "   a <операция> b = <результат>"
   ]
  },
  {
   "cell_type": "code",
   "execution_count": null,
   "id": "c2fb34fc-ff02-469c-a615-f57aa4e3f149",
   "metadata": {},
   "outputs": [],
   "source": []
  }
 ],
 "metadata": {
  "kernelspec": {
   "display_name": "Python 3 (ipykernel)",
   "language": "python",
   "name": "python3"
  },
  "language_info": {
   "codemirror_mode": {
    "name": "ipython",
    "version": 3
   },
   "file_extension": ".py",
   "mimetype": "text/x-python",
   "name": "python",
   "nbconvert_exporter": "python",
   "pygments_lexer": "ipython3",
   "version": "3.10.12"
  }
 },
 "nbformat": 4,
 "nbformat_minor": 5
}

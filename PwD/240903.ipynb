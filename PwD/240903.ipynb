{
 "cells": [
  {
   "cell_type": "code",
   "execution_count": 1,
   "id": "02152463-f17c-4e90-834e-216ec2bae38a",
   "metadata": {},
   "outputs": [
    {
     "name": "stdout",
     "output_type": "stream",
     "text": [
      "20\n",
      "10\n"
     ]
    }
   ],
   "source": [
    "a = 10\n",
    "b = a\n",
    "a = 20\n",
    "\n",
    "print(a)\n",
    "print(b)"
   ]
  },
  {
   "cell_type": "code",
   "execution_count": 3,
   "id": "3ec76462-68cf-4dcf-880c-cf4a926f2a2c",
   "metadata": {},
   "outputs": [
    {
     "name": "stdout",
     "output_type": "stream",
     "text": [
      "140414977688400\n",
      "140414977688080\n"
     ]
    }
   ],
   "source": [
    "print(id(a))\n",
    "print(id(b))\n"
   ]
  },
  {
   "cell_type": "markdown",
   "id": "aeec4d0a-b8ad-45af-b3fc-dedce05d7460",
   "metadata": {},
   "source": [
    "## Константы"
   ]
  },
  {
   "cell_type": "markdown",
   "id": "0dc87503-d37a-4828-a8de-da234cb4c4ab",
   "metadata": {},
   "source": [
    "### 1. Int"
   ]
  },
  {
   "cell_type": "code",
   "execution_count": 4,
   "id": "cf479a42-6bb9-4ca7-8edb-c52ebc166207",
   "metadata": {},
   "outputs": [
    {
     "name": "stdout",
     "output_type": "stream",
     "text": [
      "19090143\n",
      "0b1001000110100101011011111\n",
      "0o110645337\n",
      "0x1234adf\n"
     ]
    }
   ],
   "source": [
    "i1 = 10\n",
    "i2 = -5\n",
    "\n",
    "i3 = 1_000_000\n",
    "i4 = -1_000_000\n",
    "\n",
    "i5 = 0b100100101010010\n",
    "i6 = 0o57263472\n",
    "i7 = 0x1234adf\n",
    "\n",
    "print(i7)\n",
    "print(bin(i7))\n",
    "print(oct(i7))\n",
    "print(hex(i7))"
   ]
  },
  {
   "cell_type": "markdown",
   "id": "d1f69dee-1eec-41dd-b287-2fcf9533286c",
   "metadata": {},
   "source": [
    "### 2. Float"
   ]
  },
  {
   "cell_type": "code",
   "execution_count": 5,
   "id": "5c7daaea-ff6d-45b0-bad1-dbbdcc479399",
   "metadata": {},
   "outputs": [],
   "source": [
    "f1 = 1.5\n",
    "f2 = -1.5\n",
    "f3 = 3.2e5 #  3.2 * 10^5"
   ]
  },
  {
   "cell_type": "markdown",
   "id": "a0add58b-1ba3-4926-858e-43027cd20ebc",
   "metadata": {},
   "source": [
    "### 3. Bool"
   ]
  },
  {
   "cell_type": "code",
   "execution_count": 7,
   "id": "d9c8fe78-0583-49e7-866f-ca4146cf5be0",
   "metadata": {},
   "outputs": [],
   "source": [
    "b1 = True\n",
    "b2 = False"
   ]
  },
  {
   "cell_type": "markdown",
   "id": "772cc39f-aee5-4626-b747-c4f83e897ad6",
   "metadata": {},
   "source": [
    "### 4. Str"
   ]
  },
  {
   "cell_type": "code",
   "execution_count": 22,
   "id": "582b400f-b6ac-49d9-b9ce-73fb7ecc6d08",
   "metadata": {},
   "outputs": [
    {
     "name": "stdout",
     "output_type": "stream",
     "text": [
      "Hello\n",
      "Hello\n",
      "\"Hello\"\n",
      "'Hello'\n",
      "'Hello'\n",
      "\"Hello\"\n",
      "Hello\\nworld\\'\n",
      "Hello world 135\n",
      "Hello world {135}\n",
      "Hello\\nworld10000000000\n",
      "Hello world \n",
      "\n",
      "\n",
      "Hello\n",
      "my\n",
      "world\n",
      "\n"
     ]
    }
   ],
   "source": [
    "s1 = 'Hello'\n",
    "s2 = \"Hello\"\n",
    "s3 = \"\\\"Hello\\\"\"\n",
    "s4 = '\\'Hello\\''\n",
    "s5 = \"'Hello'\"\n",
    "s6 = '\"Hello\"'\n",
    "\n",
    "print(s1)\n",
    "print(s2)\n",
    "print(s3)\n",
    "print(s4)\n",
    "print(s5)\n",
    "print(s6)\n",
    "\n",
    "s7 = r'Hello\\nworld\\''\n",
    "print(s7)\n",
    "\n",
    "s8 = f'Hello world {10 + 5 ** 3}'\n",
    "print(s8)\n",
    "\n",
    "s9 = f'Hello world {{{10 + 5 ** 3}}}'\n",
    "print(s9)\n",
    "\n",
    "s10 = ('Hello'\n",
    "       'world')\n",
    "s11 = (r'Hello\\n'\n",
    "       f'world{100 ** 5}')\n",
    "\n",
    "print(s11)\n",
    "\n",
    "s12 = f'Hello world {chr(10)}'\n",
    "print(s12)\n",
    "\n",
    "s13 = '''\n",
    "Hello\n",
    "my\n",
    "world\n",
    "'''\n",
    "print(s13)\n"
   ]
  },
  {
   "cell_type": "markdown",
   "id": "b0c6b1ca-925b-4763-859b-e054546deb66",
   "metadata": {},
   "source": [
    "## Арифметика"
   ]
  },
  {
   "cell_type": "code",
   "execution_count": null,
   "id": "990a2c0f-207f-4d8e-b6d2-e8ca026ff686",
   "metadata": {},
   "outputs": [],
   "source": [
    "#  +  сложение\n",
    "#  -  вычитание\n",
    "#  *  умножение\n",
    "#  /  деление (арифметическое)\n",
    "#  // деление (целочисленное)\n",
    "#  %  остаток от деления\n",
    "#  ** возведение в степень\n",
    "\n",
    "#  +=, -=, *=, /=, //=, %=, **=\n",
    "#  a @= b  <==>  a = a @ b, где @ - некоторый оператор арифметики"
   ]
  },
  {
   "cell_type": "code",
   "execution_count": 29,
   "id": "96d57a2b-1a33-4003-b626-671b0ef80536",
   "metadata": {},
   "outputs": [
    {
     "data": {
      "text/plain": [
       "1000000000000000000000000000000000000000000000000000000000000000000000000000000000000000000000000000000000000000000000000000000000000000000000000000000000000000000000000000000000000000000000000000000000000000000000000000000000000000000000000000000000000000000000000000000000000000000000000000000000000"
      ]
     },
     "execution_count": 29,
     "metadata": {},
     "output_type": "execute_result"
    }
   ],
   "source": [
    "1000 ** 100"
   ]
  },
  {
   "cell_type": "markdown",
   "id": "b3515a81-4775-4420-870e-9331af54da72",
   "metadata": {},
   "source": [
    "## Операторы сравнения"
   ]
  },
  {
   "cell_type": "code",
   "execution_count": 30,
   "id": "87b6a01a-c726-4d69-a4fe-27035ef94047",
   "metadata": {},
   "outputs": [
    {
     "name": "stdout",
     "output_type": "stream",
     "text": [
      "True\n"
     ]
    }
   ],
   "source": [
    "#  <, <=, >, >=, ==, !=\n",
    "a = 10\n",
    "b = 20\n",
    "c = 30\n",
    "\n",
    "print(a < b <= c) #  a < b and b <= c"
   ]
  },
  {
   "cell_type": "markdown",
   "id": "2125fe0d-6079-4cd3-a769-bb6f4eb34345",
   "metadata": {},
   "source": [
    "## Логические операторы"
   ]
  },
  {
   "cell_type": "code",
   "execution_count": null,
   "id": "8530fabf-8236-49a7-962b-318dea749263",
   "metadata": {},
   "outputs": [],
   "source": [
    "#  and - логическое И\n",
    "#  or  - логическое ИЛИ\n",
    "#  not - логическое НЕ"
   ]
  },
  {
   "cell_type": "code",
   "execution_count": 34,
   "id": "c7be08a5-e9ae-41bf-815c-6cafb0096985",
   "metadata": {},
   "outputs": [
    {
     "name": "stdout",
     "output_type": "stream",
     "text": [
      "x    y     x and y\n",
      "0    0     0\n",
      "0    1     0\n",
      "1    0     0\n",
      "1    1     1\n",
      "\n",
      "x    y     x or y\n",
      "0    0     0\n",
      "0    1     1\n",
      "1    0     1\n",
      "1    1     1\n",
      "\n",
      "x     not x\n",
      "0     1\n",
      "1     0\n"
     ]
    }
   ],
   "source": [
    "print('x    y     x and y')\n",
    "print(f'0    0     {int(False and False)}')\n",
    "print(f'0    1     {int(False and True)}')\n",
    "print(f'1    0     {int(True and False)}')\n",
    "print(f'1    1     {int(True and True)}')\n",
    "print()\n",
    "\n",
    "print('x    y     x or y')\n",
    "print(f'0    0     {int(False or False)}')\n",
    "print(f'0    1     {int(False or True)}')\n",
    "print(f'1    0     {int(True or False)}')\n",
    "print(f'1    1     {int(True or True)}')\n",
    "print()\n",
    "\n",
    "print('x     not x')\n",
    "print(f'0     {int(not False)}')\n",
    "print(f'1     {int(not True)}')\n",
    "\n",
    "\n"
   ]
  },
  {
   "cell_type": "markdown",
   "id": "2277ffec-fa68-4856-911c-d2ecf62b60d7",
   "metadata": {},
   "source": [
    "## if"
   ]
  },
  {
   "cell_type": "code",
   "execution_count": 35,
   "id": "9ff69f05-cbb0-4629-9183-3781673dac17",
   "metadata": {},
   "outputs": [],
   "source": [
    "#  if <cond>:\n",
    "#      <stmt_list>\n",
    "#  --------------------\n",
    "#  if <cond>:\n",
    "#      <stmt_list>\n",
    "#  else:\n",
    "#      <stmt_list>\n",
    "#  --------------------\n",
    "#  if <cond_1>:\n",
    "#      <stmt_list>\n",
    "#  elif <cond_2>:\n",
    "#      <stmt_list>\n",
    "#  ...\n",
    "#  else:\n",
    "#      <stmt_list>\n"
   ]
  },
  {
   "cell_type": "code",
   "execution_count": 36,
   "id": "1e03c2b6-35ed-4fcb-97ee-a9959c86b26c",
   "metadata": {},
   "outputs": [
    {
     "name": "stdin",
     "output_type": "stream",
     "text": [
      " 123\n"
     ]
    },
    {
     "name": "stdout",
     "output_type": "stream",
     "text": [
      "123\n"
     ]
    }
   ],
   "source": [
    "a = input()\n",
    "\n",
    "print(a)"
   ]
  },
  {
   "cell_type": "code",
   "execution_count": 37,
   "id": "159df1d7-31d7-46ed-bae4-0bcba7ac4a6b",
   "metadata": {},
   "outputs": [
    {
     "name": "stdin",
     "output_type": "stream",
     "text": [
      " 123\n"
     ]
    },
    {
     "name": "stdout",
     "output_type": "stream",
     "text": [
      "123123\n"
     ]
    }
   ],
   "source": [
    "a = input()\n",
    "\n",
    "print(a + a)"
   ]
  },
  {
   "cell_type": "code",
   "execution_count": 42,
   "id": "0773c4fd-1af6-4db8-abb4-2b4e02f7673f",
   "metadata": {},
   "outputs": [
    {
     "name": "stdin",
     "output_type": "stream",
     "text": [
      " 123\n"
     ]
    },
    {
     "name": "stdout",
     "output_type": "stream",
     "text": [
      "246\n"
     ]
    }
   ],
   "source": [
    "a = int(input())\n",
    "\n",
    "print(a + a)"
   ]
  },
  {
   "cell_type": "code",
   "execution_count": 43,
   "id": "dc57154a-e2e9-4f0b-9a22-837f45f6acf2",
   "metadata": {},
   "outputs": [
    {
     "name": "stdin",
     "output_type": "stream",
     "text": [
      " 123 456\n"
     ]
    },
    {
     "name": "stdout",
     "output_type": "stream",
     "text": [
      "579\n"
     ]
    }
   ],
   "source": [
    "a, b = map(int, input().split())\n",
    "\n",
    "print(a + b)"
   ]
  },
  {
   "cell_type": "code",
   "execution_count": null,
   "id": "18ce804f-4323-48b1-8093-f441ee1db88f",
   "metadata": {},
   "outputs": [],
   "source": []
  }
 ],
 "metadata": {
  "kernelspec": {
   "display_name": "Python 3 (ipykernel)",
   "language": "python",
   "name": "python3"
  },
  "language_info": {
   "codemirror_mode": {
    "name": "ipython",
    "version": 3
   },
   "file_extension": ".py",
   "mimetype": "text/x-python",
   "name": "python",
   "nbconvert_exporter": "python",
   "pygments_lexer": "ipython3",
   "version": "3.10.12"
  }
 },
 "nbformat": 4,
 "nbformat_minor": 5
}

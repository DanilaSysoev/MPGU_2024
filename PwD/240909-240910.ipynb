{
 "cells": [
  {
   "cell_type": "markdown",
   "id": "325813af-2c5e-4919-bc2e-12745f05ae71",
   "metadata": {},
   "source": [
    "## Цикл wile"
   ]
  },
  {
   "cell_type": "code",
   "execution_count": 4,
   "id": "14f2f47b-7cbe-45c1-9286-e64987c56b40",
   "metadata": {},
   "outputs": [
    {
     "name": "stdin",
     "output_type": "stream",
     "text": [
      " 10\n"
     ]
    },
    {
     "name": "stdout",
     "output_type": "stream",
     "text": [
      "1\n",
      "2\n",
      "5\n",
      "10\n",
      "4\n"
     ]
    }
   ],
   "source": [
    "# Дано целое положительное число, вывести все его делители\n",
    "\n",
    "num = int(input())\n",
    "\n",
    "divider = 1\n",
    "count = 0\n",
    "\n",
    "while divider <= num:\n",
    "    if num % divider == 0:\n",
    "        count += 1\n",
    "        print(divider)\n",
    "    divider += 1\n",
    "\n",
    "print(count)\n"
   ]
  },
  {
   "cell_type": "code",
   "execution_count": 6,
   "id": "dc17e535-d510-4dd7-9cfe-b4b8ea90ba3c",
   "metadata": {},
   "outputs": [
    {
     "name": "stdin",
     "output_type": "stream",
     "text": [
      "Загадано двузначное число. Попробуйте угадать (если сдаетесь, введите -1)\n",
      " 34\n",
      "Загадано двузначное число. Попробуйте угадать (если сдаетесь, введите -1)\n",
      " 56\n",
      "Загадано двузначное число. Попробуйте угадать (если сдаетесь, введите -1)\n",
      " -1\n"
     ]
    },
    {
     "name": "stdout",
     "output_type": "stream",
     "text": [
      "Очень жаль, попробуйте еще раз.\n"
     ]
    }
   ],
   "source": [
    "# прграмма загадывает число, пользователь пытается угадать.\n",
    "\n",
    "secret = 12\n",
    "\n",
    "user_try = -1\n",
    "\n",
    "while user_try != secret:    \n",
    "    user_try = int(input('Загадано двузначное число. Попробуйте угадать (если сдаетесь, введите -1)\\n'))\n",
    "    if user_try == -1:\n",
    "        break\n",
    "\n",
    "if user_try != -1:\n",
    "    print('Поздравляем, вы угадали!')\n",
    "else:\n",
    "    print('Очень жаль, попробуйте еще раз.')\n",
    "    \n",
    "    "
   ]
  },
  {
   "cell_type": "code",
   "execution_count": 7,
   "id": "b4fb0c2e-063e-43ce-8c41-3b703aa8cb02",
   "metadata": {},
   "outputs": [
    {
     "name": "stdin",
     "output_type": "stream",
     "text": [
      "Загадано двузначное число. Попробуйте угадать (если сдаетесь, введите -1)\n",
      " 6\n"
     ]
    },
    {
     "name": "stdout",
     "output_type": "stream",
     "text": [
      "Загадано двузначное число.\n"
     ]
    },
    {
     "name": "stdin",
     "output_type": "stream",
     "text": [
      "Загадано двузначное число. Попробуйте угадать (если сдаетесь, введите -1)\n",
      " 13\n",
      "Загадано двузначное число. Попробуйте угадать (если сдаетесь, введите -1)\n",
      " 12\n"
     ]
    },
    {
     "name": "stdout",
     "output_type": "stream",
     "text": [
      "Поздравляем, вы угадали!\n"
     ]
    }
   ],
   "source": [
    "# прграмма загадывает число, пользователь пытается угадать.\n",
    "\n",
    "secret = 12\n",
    "\n",
    "user_try = -1\n",
    "\n",
    "while user_try != secret:    \n",
    "    user_try = int(input('Загадано двузначное число. Попробуйте угадать (если сдаетесь, введите -1)\\n'))\n",
    "    if user_try >= 0 and (user_try < 10 or user_try > 99):\n",
    "        print('Загадано двузначное число.')\n",
    "        continue\n",
    "    if user_try == -1:\n",
    "        break\n",
    "        \n",
    "\n",
    "if user_try != -1:\n",
    "    print('Поздравляем, вы угадали!')\n",
    "else:\n",
    "    print('Очень жаль, попробуйте еще раз.')"
   ]
  },
  {
   "cell_type": "code",
   "execution_count": 11,
   "id": "8da6df41-831f-4ea0-a8e6-24814b4bfd1c",
   "metadata": {},
   "outputs": [
    {
     "name": "stdin",
     "output_type": "stream",
     "text": [
      " 10\n",
      " 10\n"
     ]
    },
    {
     "name": "stdout",
     "output_type": "stream",
     "text": [
      "1\n",
      "2\n",
      "5\n",
      "Слишком мало делителей\n"
     ]
    }
   ],
   "source": [
    "# Дано два числа, Требуется посчитать делители первого, которые меньше второго. Если таких делителей не больше 5, вывести сообщение.\n",
    "\n",
    "num1 = int(input())\n",
    "num2 = int(input())\n",
    "\n",
    "divider = 1\n",
    "count = 0\n",
    "\n",
    "while divider <= num1 and divider < num2:\n",
    "    if num1 % divider == 0:\n",
    "        count += 1\n",
    "        print(divider)\n",
    "    divider += 1\n",
    "    if count > 5:\n",
    "        break\n",
    "\n",
    "else:\n",
    "    print('Слишком мало делителей')\n"
   ]
  },
  {
   "cell_type": "markdown",
   "id": "9eab25c6-3ca6-4b35-b3c7-8c8697c21282",
   "metadata": {},
   "source": [
    "## Цикл for"
   ]
  },
  {
   "cell_type": "code",
   "execution_count": 12,
   "id": "7850bb2e-3e5c-4cb4-b572-46ea7076c2d2",
   "metadata": {},
   "outputs": [
    {
     "name": "stdin",
     "output_type": "stream",
     "text": [
      " 5\n",
      " 15\n"
     ]
    },
    {
     "name": "stdout",
     "output_type": "stream",
     "text": [
      "5 6 7 8 9 10 11 12 13 14 15 "
     ]
    }
   ],
   "source": [
    "# Дано два числа, вывести все числа от первого до второго включительно\n",
    "\n",
    "a = int(input())\n",
    "b = int(input())\n",
    "\n",
    "for num in range(a, b + 1):\n",
    "    print(num, end=' ')\n"
   ]
  },
  {
   "cell_type": "code",
   "execution_count": 13,
   "id": "9af4a96d-f4b5-436d-b580-6f4708f4a8c1",
   "metadata": {},
   "outputs": [
    {
     "name": "stdout",
     "output_type": "stream",
     "text": [
      "0 1 2 3 4 5 6 7 8 9 \n",
      "10 11 12 13 14 15 16 17 18 19 \n",
      "10 12 14 16 18 \n"
     ]
    }
   ],
   "source": [
    "for num in range(10):\n",
    "    print(num, end=' ')\n",
    "print()\n",
    "\n",
    "for num in range(10, 20):\n",
    "    print(num, end=' ')\n",
    "print()\n",
    "\n",
    "for num in range(10, 20, 2):\n",
    "    print(num, end=' ')\n",
    "print()"
   ]
  },
  {
   "cell_type": "code",
   "execution_count": 15,
   "id": "da7369b0-b3c5-4af1-addf-9274e8ee52f0",
   "metadata": {},
   "outputs": [
    {
     "name": "stdout",
     "output_type": "stream",
     "text": [
      "-10 -12 -14 -16 -18 \n"
     ]
    }
   ],
   "source": [
    "for num in range(-10, -20, -2):\n",
    "    print(num, end=' ')\n",
    "print()"
   ]
  },
  {
   "cell_type": "markdown",
   "id": "7dc49aae-fabc-4573-819e-35e1df3bb9fc",
   "metadata": {},
   "source": [
    "## List"
   ]
  },
  {
   "cell_type": "code",
   "execution_count": 1,
   "id": "6f67d0d6-8a22-49b3-a333-5d69bc7471bc",
   "metadata": {},
   "outputs": [
    {
     "name": "stdout",
     "output_type": "stream",
     "text": [
      "[10, '10', 10.0]\n"
     ]
    }
   ],
   "source": [
    "l1 = [10, '10', 10.0]\n",
    "print(l1)"
   ]
  },
  {
   "cell_type": "code",
   "execution_count": 2,
   "id": "92d8a80b-8134-4f11-aaf8-a98f4e36d683",
   "metadata": {},
   "outputs": [
    {
     "name": "stdout",
     "output_type": "stream",
     "text": [
      "[] []\n"
     ]
    }
   ],
   "source": [
    "l2 = []\n",
    "l3 = list()\n",
    "\n",
    "print(l2, l3)"
   ]
  },
  {
   "cell_type": "code",
   "execution_count": 3,
   "id": "7310d3c0-0f7c-4f23-ab71-18cfbc6793ef",
   "metadata": {},
   "outputs": [
    {
     "name": "stdout",
     "output_type": "stream",
     "text": [
      "[10, 11, 12, 13, 14, 15, 16, 17, 18, 19]\n"
     ]
    }
   ],
   "source": [
    "l4 = list(range(10, 20))\n",
    "print(l4)"
   ]
  },
  {
   "cell_type": "code",
   "execution_count": 4,
   "id": "2cbf2d2e-ed98-4435-ba79-49846696dac8",
   "metadata": {},
   "outputs": [
    {
     "name": "stdout",
     "output_type": "stream",
     "text": [
      "[10, '10', 10.0]\n"
     ]
    }
   ],
   "source": [
    "l5 = list(l1)\n",
    "print(l5)"
   ]
  },
  {
   "cell_type": "code",
   "execution_count": 5,
   "id": "28515850-bb76-42a1-86cf-7ccc4ccf40ca",
   "metadata": {},
   "outputs": [
    {
     "name": "stdout",
     "output_type": "stream",
     "text": [
      "[10, '10', 10.0]\n"
     ]
    }
   ],
   "source": [
    "l6 = l1.copy()\n",
    "print(l6)"
   ]
  },
  {
   "cell_type": "code",
   "execution_count": 8,
   "id": "1c8c04ad-b5fc-4a64-bec9-94b0167d5f23",
   "metadata": {},
   "outputs": [
    {
     "name": "stdout",
     "output_type": "stream",
     "text": [
      "[100, '10', 10.0]\n"
     ]
    }
   ],
   "source": [
    "l7 = l1\n",
    "print(l7)"
   ]
  },
  {
   "cell_type": "code",
   "execution_count": 9,
   "id": "8338be52-305c-4255-bafc-b97121f11426",
   "metadata": {},
   "outputs": [
    {
     "name": "stdout",
     "output_type": "stream",
     "text": [
      "l1:  [100, '10', 10.0]\n",
      "l5:  [10, '10', 10.0]\n",
      "l6:  [10, '10', 10.0]\n",
      "l7:  [100, '10', 10.0]\n"
     ]
    }
   ],
   "source": [
    "l1[0] = 100\n",
    "print('l1: ', l1)\n",
    "print('l5: ', l5)\n",
    "print('l6: ', l6)\n",
    "print('l7: ', l7)"
   ]
  },
  {
   "cell_type": "code",
   "execution_count": 19,
   "id": "edb431d6-f20f-4224-ae2c-3523174e8f76",
   "metadata": {},
   "outputs": [],
   "source": [
    "import copy"
   ]
  },
  {
   "cell_type": "code",
   "execution_count": 20,
   "id": "e3363397-28cf-463f-81c1-d8ac570f5d51",
   "metadata": {},
   "outputs": [
    {
     "name": "stdin",
     "output_type": "stream",
     "text": [
      " 3\n",
      " 3 3 4\n",
      " 5 4 3\n",
      " 4 3 2\n",
      " 0\n",
      " 4\n",
      " 2\n",
      " 4\n",
      " 2\n",
      " 4\n"
     ]
    },
    {
     "name": "stdout",
     "output_type": "stream",
     "text": [
      "0: 0.33333333333333304\n",
      "1: 0.33333333333333304\n",
      "2: 0.6666666666666665\n"
     ]
    }
   ],
   "source": [
    "data = []\n",
    "num = int(input())\n",
    "\n",
    "for i in range(num):\n",
    "    data.append(list(map(int, input().split())))\n",
    "\n",
    "data_new = copy.deepcopy(data)\n",
    "for i in range(num):\n",
    "    index = int(input())\n",
    "    data_new[i][index] = int(input())\n",
    "\n",
    "for i in range(num):\n",
    "    s1 = sum(data[i])\n",
    "    s2 = sum(data_new[i])\n",
    "    print(f'{i}: {s2 / 3 - s1 / 3}')"
   ]
  },
  {
   "cell_type": "code",
   "execution_count": 2,
   "id": "7c830093-5f82-4fc2-8abe-bf779b05b415",
   "metadata": {},
   "outputs": [
    {
     "name": "stdout",
     "output_type": "stream",
     "text": [
      "[1, 2, 3, 1, 2, 3, 1, 2, 3]\n"
     ]
    }
   ],
   "source": [
    "lst = [1, 2, 3]\n",
    "lst2 = lst * 3\n",
    "print(lst2)"
   ]
  },
  {
   "cell_type": "code",
   "execution_count": 3,
   "id": "2a7bca23-083b-45ad-a2f6-cdba60aa6241",
   "metadata": {},
   "outputs": [
    {
     "name": "stdout",
     "output_type": "stream",
     "text": [
      "[1, 2, 3, 1, 2, 3, 1, 2, 3, 1, 2, 3]\n"
     ]
    }
   ],
   "source": [
    "lst3 = lst + lst2\n",
    "print(lst3)"
   ]
  },
  {
   "cell_type": "code",
   "execution_count": 4,
   "id": "767a689c-754c-49c8-89b3-22f3db5cfee6",
   "metadata": {},
   "outputs": [
    {
     "name": "stdout",
     "output_type": "stream",
     "text": [
      "[3, 4, 1, 2] < [4, 3, 2]  = True\n",
      "[3, 4, 1, 2] <= [4, 3, 2] = True\n",
      "[3, 4, 1, 2] >= [4, 3, 2] = False\n",
      "[3, 4, 1, 2] > [4, 3, 2]  = False\n",
      "[3, 4, 1, 2] == [4, 3, 2] = False\n",
      "[3, 4, 1, 2] != [4, 3, 2] = True\n",
      "\n",
      "[3, 4, 1, 2] < [3, 4, 1]  = False\n",
      "[3, 4, 1, 2] <= [3, 4, 1] = False\n",
      "[3, 4, 1, 2] >= [3, 4, 1] = True\n",
      "[3, 4, 1, 2] > [3, 4, 1]  = True\n",
      "[3, 4, 1, 2] == [3, 4, 1] = False\n",
      "[3, 4, 1, 2] != [3, 4, 1] = True\n",
      "\n",
      "[3, 4, 1, 2] < [3, 4, 1, 2]  = False\n",
      "[3, 4, 1, 2] <= [3, 4, 1, 2] = True\n",
      "[3, 4, 1, 2] >= [3, 4, 1, 2] = True\n",
      "[3, 4, 1, 2] > [3, 4, 1, 2]  = False\n",
      "[3, 4, 1, 2] == [3, 4, 1, 2] = True\n",
      "[3, 4, 1, 2] != [3, 4, 1, 2] = False\n"
     ]
    }
   ],
   "source": [
    "a = [3, 4, 1, 2]\n",
    "b = [4, 3, 2]\n",
    "c = [3, 4, 1]\n",
    "d = [3, 4, 1, 2]\n",
    "\n",
    "print(f'{a} < {b}  = {a < b}')\n",
    "print(f'{a} <= {b} = {a <= b}')\n",
    "print(f'{a} >= {b} = {a >= b}')\n",
    "print(f'{a} > {b}  = {a > b}')\n",
    "print(f'{a} == {b} = {a == b}')\n",
    "print(f'{a} != {b} = {a != b}')\n",
    "print()\n",
    "print(f'{a} < {c}  = {a < c}')\n",
    "print(f'{a} <= {c} = {a <= c}')\n",
    "print(f'{a} >= {c} = {a >= c}')\n",
    "print(f'{a} > {c}  = {a > c}')\n",
    "print(f'{a} == {c} = {a == c}')\n",
    "print(f'{a} != {c} = {a != c}')\n",
    "print()\n",
    "print(f'{a} < {d}  = {a < d}')\n",
    "print(f'{a} <= {d} = {a <= d}')\n",
    "print(f'{a} >= {d} = {a >= d}')\n",
    "print(f'{a} > {d}  = {a > d}')\n",
    "print(f'{a} == {d} = {a == d}')\n",
    "print(f'{a} != {d} = {a != d}')\n"
   ]
  },
  {
   "cell_type": "code",
   "execution_count": 10,
   "id": "78e477b8-3681-4bb3-992a-f1555ddf8b62",
   "metadata": {},
   "outputs": [
    {
     "name": "stdout",
     "output_type": "stream",
     "text": [
      "[1, 2, 3, 4, 5, 6, 7, 8, 9]\n",
      "[5, 10, 15, 20, 25, 30, 35, 40, 45, 50, 55, 60, 65, 70, 75, 80, 85, 90, 95]\n",
      "[11, 21, 31, 12, 22, 32, 13, 23, 33]\n",
      "[17, 52, 87, 19, 54, 89, 21, 56, 91, 23, 58, 93]\n"
     ]
    }
   ],
   "source": [
    "gen1 = [val for val in range(1, 10)]\n",
    "print(gen1)\n",
    "\n",
    "gen2 = [val for val in range(1, 100) if val % 5 == 0]\n",
    "print(gen2)\n",
    "\n",
    "gen3 = [x + y for x in [1, 2, 3] for y in [10, 20, 30]]\n",
    "print(gen3)\n",
    "\n",
    "gen4 = [x + y for x in range(1, 10) if x % 2 == 0 for y in range(1, 100, 7) if y % 5 == 0]\n",
    "print(gen4)"
   ]
  },
  {
   "cell_type": "code",
   "execution_count": 13,
   "id": "16435425-5de8-49eb-a2a3-ce507cc3367b",
   "metadata": {},
   "outputs": [
    {
     "name": "stdout",
     "output_type": "stream",
     "text": [
      "[10, 12, 14, 16, 18]\n",
      "[0, 1, 2, 3, 4, 5, 6, 7, 8, 9]\n",
      "[90, 91, 92, 93, 94, 95, 96, 97, 98, 99]\n",
      "[0, 1, 2, 3, 4, 5, 6, 7, 8, 9, 10, 11, 12, 13, 14, 15, 16, 17, 18, 19, 20, 21, 22, 23, 24, 25, 26, 27, 28, 29, 30, 31, 32, 33, 34, 35, 36, 37, 38, 39, 40, 41, 42, 43, 44, 45, 46, 47, 48, 49, 50, 51, 52, 53, 54, 55, 56, 57, 58, 59, 60, 61, 62, 63, 64, 65, 66, 67, 68, 69, 70, 71, 72, 73, 74, 75, 76, 77, 78, 79, 80, 81, 82, 83, 84, 85, 86, 87, 88, 89, 90, 91, 92, 93, 94, 95, 96, 97, 98, 99]\n"
     ]
    }
   ],
   "source": [
    "l1 = list(range(100))\n",
    "l2 = l1[10:20:2]\n",
    "print(l2)\n",
    "l3 = l1[:10]  # С начала\n",
    "l4 = l1[90:]  # До конца\n",
    "l5 = l1[:]    # Эквивалент копирования\n",
    "\n",
    "print(l3)\n",
    "print(l4)\n",
    "print(l5)"
   ]
  },
  {
   "cell_type": "code",
   "execution_count": 14,
   "id": "1d01d638-3de1-4f3f-b6a3-785c562f1170",
   "metadata": {},
   "outputs": [
    {
     "name": "stdout",
     "output_type": "stream",
     "text": [
      "[0, 1, 2, 3, 4, 5, 6, 7, 8, 9]\n",
      "[0, 10, 20, 30, 40, 50, 60, 70, 80, 90]\n"
     ]
    }
   ],
   "source": [
    "l1 = list(range(10))\n",
    "l2 = list(range(0, 100, 10))\n",
    "print(l1)\n",
    "print(l2)"
   ]
  },
  {
   "cell_type": "code",
   "execution_count": 15,
   "id": "dd53c7db-574b-4fdb-8b99-4d86396b1493",
   "metadata": {},
   "outputs": [
    {
     "name": "stdout",
     "output_type": "stream",
     "text": [
      "[0, 1, 2, 30, 40, 50, 60, 7, 8, 9]\n"
     ]
    }
   ],
   "source": [
    "l1[3:7] = l2[3: 7]\n",
    "print(l1)"
   ]
  },
  {
   "cell_type": "code",
   "execution_count": 16,
   "id": "b1035750-37cc-49ad-bd38-0479ab636047",
   "metadata": {},
   "outputs": [
    {
     "name": "stdout",
     "output_type": "stream",
     "text": [
      "[0, 1, 2, 30, 7, 8, 9]\n"
     ]
    }
   ],
   "source": [
    "l1[3: 7] = l2[3: 4]\n",
    "print(l1)"
   ]
  },
  {
   "cell_type": "code",
   "execution_count": 17,
   "id": "33222da6-8866-4d09-b332-6956ed300aa5",
   "metadata": {},
   "outputs": [
    {
     "name": "stdout",
     "output_type": "stream",
     "text": [
      "[0, 1, 2, 8, 9]\n"
     ]
    }
   ],
   "source": [
    "l1[3:5] = []\n",
    "print(l1)"
   ]
  },
  {
   "cell_type": "code",
   "execution_count": 19,
   "id": "b624b3b8-3ae4-47e2-b3d2-1719656e3634",
   "metadata": {},
   "outputs": [
    {
     "name": "stdout",
     "output_type": "stream",
     "text": [
      "[0, 10, 20, 30, 40, 50, 60, 70, 90]\n"
     ]
    }
   ],
   "source": [
    "l2.remove(80)\n",
    "print(l2)"
   ]
  },
  {
   "cell_type": "code",
   "execution_count": 22,
   "id": "7851365c-702b-46cb-823a-f2ac10216a59",
   "metadata": {},
   "outputs": [
    {
     "name": "stdout",
     "output_type": "stream",
     "text": [
      "3\n",
      "2\n",
      "1\n"
     ]
    }
   ],
   "source": [
    "lst = [1, 2, 3]\n",
    "print(lst[-1])\n",
    "print(lst[-2])\n",
    "print(lst[-3])"
   ]
  },
  {
   "cell_type": "code",
   "execution_count": 51,
   "id": "38fa3544-9abf-4527-8257-8f0a9eabdb42",
   "metadata": {},
   "outputs": [
    {
     "name": "stdout",
     "output_type": "stream",
     "text": [
      "True\n",
      "False\n"
     ]
    }
   ],
   "source": [
    "l1 = [1, 2, 3, 4, 5]\n",
    "print(2 in l1)\n",
    "print(10 in l1)"
   ]
  },
  {
   "cell_type": "markdown",
   "id": "5b1106c3-7f3d-4474-ad6c-5b5d6e85c3b4",
   "metadata": {},
   "source": [
    "## Tuple"
   ]
  },
  {
   "cell_type": "code",
   "execution_count": 11,
   "id": "b8c161c3-4166-47dc-a2eb-abbee191e3d7",
   "metadata": {},
   "outputs": [
    {
     "name": "stdout",
     "output_type": "stream",
     "text": [
      "(1, 2, 3)\n",
      "()\n",
      "(1, 2, 3)\n",
      "(1,)\n",
      "1\n"
     ]
    }
   ],
   "source": [
    "t1 = (1, 2, 3)\n",
    "t2 = tuple()\n",
    "t3 = 1, 2, 3\n",
    "t4 = (1,)\n",
    "\n",
    "nt5 = (1)\n",
    "\n",
    "print(t1)\n",
    "print(t2)\n",
    "print(t3)\n",
    "print(t4)\n",
    "print(nt5)"
   ]
  },
  {
   "cell_type": "code",
   "execution_count": 20,
   "id": "218ac413-1e68-450f-8872-e5aab8134bba",
   "metadata": {},
   "outputs": [
    {
     "name": "stdout",
     "output_type": "stream",
     "text": [
      "1 2 3\n"
     ]
    }
   ],
   "source": [
    "# Поддерживают те же операции, что и списки, кроме операций модификации.\n",
    "# Поддерживает автоматическую распаковку\n",
    "\n",
    "t = (1, 2, 3)\n",
    "\n",
    "a, b, c = t\n",
    "print(a, b, c)"
   ]
  },
  {
   "cell_type": "code",
   "execution_count": 21,
   "id": "3b50af59-4f77-446c-bb07-c8531243cf9f",
   "metadata": {},
   "outputs": [
    {
     "name": "stdout",
     "output_type": "stream",
     "text": [
      "3\n",
      "7\n",
      "11\n"
     ]
    }
   ],
   "source": [
    "data = [(1, 2), (3, 4), (5, 6)]\n",
    "for v1, v2 in data:\n",
    "    print(v1 + v2)"
   ]
  },
  {
   "cell_type": "markdown",
   "id": "326a3d23-271d-4fd3-9bcd-971c064d05de",
   "metadata": {},
   "source": [
    "## Dictionary"
   ]
  },
  {
   "cell_type": "code",
   "execution_count": 23,
   "id": "98e99d6d-1f99-4469-905f-4290f3fd6874",
   "metadata": {},
   "outputs": [
    {
     "name": "stdout",
     "output_type": "stream",
     "text": [
      "{'one': 1, 'two': 2, 'three': 3}\n"
     ]
    }
   ],
   "source": [
    "d1 = {\n",
    "    'one': 1,\n",
    "    'two': 2,\n",
    "    'three': 3\n",
    "}\n",
    "\n",
    "print(d1)"
   ]
  },
  {
   "cell_type": "code",
   "execution_count": 24,
   "id": "c89ff585-9116-4fbb-b686-57586e0e56b8",
   "metadata": {},
   "outputs": [
    {
     "name": "stdout",
     "output_type": "stream",
     "text": [
      "1\n",
      "{'one': 1, 'two': '2', 'three': 3}\n"
     ]
    }
   ],
   "source": [
    "print(d1['one'])\n",
    "d1['two'] = '2'\n",
    "\n",
    "print(d1)"
   ]
  },
  {
   "cell_type": "code",
   "execution_count": 25,
   "id": "24e08594-27fe-4498-9f87-ea3c0b85467a",
   "metadata": {},
   "outputs": [
    {
     "ename": "KeyError",
     "evalue": "'four'",
     "output_type": "error",
     "traceback": [
      "\u001b[0;31m---------------------------------------------------------------------------\u001b[0m",
      "\u001b[0;31mKeyError\u001b[0m                                  Traceback (most recent call last)",
      "Cell \u001b[0;32mIn[25], line 1\u001b[0m\n\u001b[0;32m----> 1\u001b[0m \u001b[38;5;28mprint\u001b[39m(\u001b[43md1\u001b[49m\u001b[43m[\u001b[49m\u001b[38;5;124;43m'\u001b[39;49m\u001b[38;5;124;43mfour\u001b[39;49m\u001b[38;5;124;43m'\u001b[39;49m\u001b[43m]\u001b[49m)\n",
      "\u001b[0;31mKeyError\u001b[0m: 'four'"
     ]
    }
   ],
   "source": [
    "print(d1['four'])"
   ]
  },
  {
   "cell_type": "code",
   "execution_count": 28,
   "id": "3ca8c3a0-dd98-49fe-90dc-52324c088db2",
   "metadata": {},
   "outputs": [
    {
     "name": "stdout",
     "output_type": "stream",
     "text": [
      "{'one': 1, 'two': '2', 'three': 3, 'four': 4}\n"
     ]
    }
   ],
   "source": [
    "d1['four'] = 4\n",
    "print(d1)"
   ]
  },
  {
   "cell_type": "code",
   "execution_count": 29,
   "id": "c2b6329f-44ca-4d8b-a304-c5c572c69654",
   "metadata": {},
   "outputs": [
    {
     "name": "stdout",
     "output_type": "stream",
     "text": [
      "{'one': 1, 'two': '2', 'three': 3}\n"
     ]
    }
   ],
   "source": [
    "ed1 = {}\n",
    "ed2 = dict()\n",
    "d3 = dict([('one', 1), ('two', '2'), ['three', 3]])\n",
    "print(d3)"
   ]
  },
  {
   "cell_type": "code",
   "execution_count": 30,
   "id": "0b4de9f7-3a08-4158-8de8-2032182142fe",
   "metadata": {},
   "outputs": [
    {
     "name": "stdout",
     "output_type": "stream",
     "text": [
      "{'one': 10, 'two': '2', 'three': 3}\n"
     ]
    }
   ],
   "source": [
    "\n",
    "d3 = dict([('one', 1), ('two', '2'), ['three', 3], ['one', 10]])\n",
    "print(d3)"
   ]
  },
  {
   "cell_type": "code",
   "execution_count": 31,
   "id": "a97391a2-2382-48af-af6d-cec7e80e2f6c",
   "metadata": {},
   "outputs": [
    {
     "name": "stdout",
     "output_type": "stream",
     "text": [
      "one\n",
      "two\n",
      "three\n",
      "10\n",
      "2\n",
      "3\n",
      "one 10\n",
      "two 2\n",
      "three 3\n"
     ]
    }
   ],
   "source": [
    "for k in d3.keys():\n",
    "    print(k)\n",
    "    \n",
    "for v in d3.values():\n",
    "    print(v)\n",
    "\n",
    "for k, v in d3.items():\n",
    "    print(k, v)"
   ]
  },
  {
   "cell_type": "code",
   "execution_count": 32,
   "id": "cb2a4438-1eff-47d3-9476-d73e0b5fa994",
   "metadata": {},
   "outputs": [
    {
     "name": "stdout",
     "output_type": "stream",
     "text": [
      "one\n",
      "two\n",
      "three\n"
     ]
    }
   ],
   "source": [
    "for k in d3:\n",
    "    print(k)"
   ]
  },
  {
   "cell_type": "markdown",
   "id": "23d540e4-66c6-414b-9f45-d1923dd57058",
   "metadata": {},
   "source": [
    "## Set"
   ]
  },
  {
   "cell_type": "code",
   "execution_count": 36,
   "id": "2fb3d6cd-4cf0-4e8b-a4ab-caf25973e66f",
   "metadata": {},
   "outputs": [
    {
     "name": "stdout",
     "output_type": "stream",
     "text": [
      "{1, 2, 3, 4}\n"
     ]
    }
   ],
   "source": [
    "s1 = {1, 2, 3, 4, 1, 2, 4}\n",
    "print(s1)"
   ]
  },
  {
   "cell_type": "code",
   "execution_count": 37,
   "id": "57256dd4-865a-420d-a729-3bfee0d01be5",
   "metadata": {},
   "outputs": [
    {
     "name": "stdout",
     "output_type": "stream",
     "text": [
      "{1, 2, 3, 4, 10}\n"
     ]
    }
   ],
   "source": [
    "s1.add(10)\n",
    "s1.add(4)\n",
    "print(s1)"
   ]
  },
  {
   "cell_type": "code",
   "execution_count": 38,
   "id": "9054ba77-5b94-4ff3-9ca1-efd737e36843",
   "metadata": {},
   "outputs": [
    {
     "name": "stdout",
     "output_type": "stream",
     "text": [
      "{2, 4}\n",
      "{0, 1, 2, 3, 4, 5, 6, 8}\n",
      "{1, 3, 5}\n",
      "True\n",
      "True\n",
      "True\n",
      "True\n",
      "False\n",
      "True\n"
     ]
    }
   ],
   "source": [
    "s1 = {1, 2, 3, 4, 5}\n",
    "s2 = {2, 4, 6, 8, 0}\n",
    "s3 = {1, 2, 3}\n",
    "\n",
    "intersect = s1 & s2\n",
    "union = s1 | s2\n",
    "diff = s1 - s2\n",
    "\n",
    "is_sub =        s3 <= s1\n",
    "is_own_sub =    s3 < s1\n",
    "is_under =      s1 >= s3\n",
    "is_corr_under = s1 > s3\n",
    "is_eq =         s2 == s3\n",
    "is_not_eq =     s2 != s3\n",
    "\n",
    "print(intersect)\n",
    "print(union)\n",
    "print(diff)\n",
    "\n",
    "print(is_sub)\n",
    "print(is_own_sub)\n",
    "print(is_under)\n",
    "print(is_corr_under)\n",
    "print(is_eq)\n",
    "print(is_not_eq)"
   ]
  },
  {
   "cell_type": "markdown",
   "id": "bb2dd6b4-a044-4041-be48-fcb494a00458",
   "metadata": {},
   "source": [
    "## Функции"
   ]
  },
  {
   "cell_type": "code",
   "execution_count": 39,
   "id": "bca91fec-6423-4036-addd-4ef8e918744f",
   "metadata": {},
   "outputs": [],
   "source": [
    "import math\n",
    "\n",
    "def square_equation_solve(a, b, c):\n",
    "    if a == 0:\n",
    "        return (-c / b, )\n",
    "    d = b * b - 4 * a * c\n",
    "    if d < 0:\n",
    "        return tuple()\n",
    "    if d == 0:\n",
    "        return (-b / (2 * a), )\n",
    "    return ((-b - math.sqrt(d)) / (2 * a),\n",
    "            (-b + math.sqrt(d)) / (2 * a))"
   ]
  },
  {
   "cell_type": "code",
   "execution_count": 40,
   "id": "8c3571f5-4492-4372-94db-c1ec4534a480",
   "metadata": {},
   "outputs": [
    {
     "name": "stdin",
     "output_type": "stream",
     "text": [
      "введите коэффициенты уравнения:\n",
      " 4 -9 5\n"
     ]
    }
   ],
   "source": [
    "a, b, c = map(int, input('введите коэффициенты уравнения:\\n').split())"
   ]
  },
  {
   "cell_type": "code",
   "execution_count": 41,
   "id": "6aa313ff-0e80-4614-b66d-ce54eab35e2c",
   "metadata": {},
   "outputs": [
    {
     "name": "stdout",
     "output_type": "stream",
     "text": [
      "(1.0, 1.25)\n"
     ]
    }
   ],
   "source": [
    "print(square_equation_solve(a, b, c))"
   ]
  },
  {
   "cell_type": "code",
   "execution_count": 42,
   "id": "63f08386-a80c-417d-a80a-22b600252309",
   "metadata": {},
   "outputs": [],
   "source": [
    "calls = 0\n",
    "\n",
    "def calls_count():\n",
    "    global calls\n",
    "    calls += 1"
   ]
  },
  {
   "cell_type": "code",
   "execution_count": 43,
   "id": "3acf7fad-da67-4752-86a4-4887581fca50",
   "metadata": {},
   "outputs": [
    {
     "name": "stdout",
     "output_type": "stream",
     "text": [
      "1\n",
      "2\n",
      "3\n",
      "4\n"
     ]
    }
   ],
   "source": [
    "calls_count()\n",
    "print(calls)\n",
    "calls_count()\n",
    "print(calls)\n",
    "calls_count()\n",
    "print(calls)\n",
    "calls_count()\n",
    "print(calls)"
   ]
  },
  {
   "cell_type": "code",
   "execution_count": 44,
   "id": "1d74e6e0-7e96-4586-ae68-432c6359499b",
   "metadata": {},
   "outputs": [],
   "source": [
    "def create_point(x=0, y=0):\n",
    "    return (x, y)"
   ]
  },
  {
   "cell_type": "code",
   "execution_count": 45,
   "id": "51c6a610-7473-4ded-9226-c99a8072f94c",
   "metadata": {},
   "outputs": [
    {
     "name": "stdout",
     "output_type": "stream",
     "text": [
      "(0, 0)\n",
      "(10, 0)\n",
      "(10, 20)\n"
     ]
    }
   ],
   "source": [
    "print(create_point())\n",
    "print(create_point(10))\n",
    "print(create_point(10, 20))"
   ]
  },
  {
   "cell_type": "code",
   "execution_count": 47,
   "id": "c5dfd15c-5bd7-4a92-8933-e6d937df5494",
   "metadata": {},
   "outputs": [],
   "source": [
    "def input_data(cnt, result=[]):\n",
    "    for i in range(cnt):\n",
    "        result.append(input())\n",
    "    print(result)"
   ]
  },
  {
   "cell_type": "code",
   "execution_count": 48,
   "id": "db53bf71-1170-4a0c-b197-31156acbc940",
   "metadata": {},
   "outputs": [
    {
     "name": "stdin",
     "output_type": "stream",
     "text": [
      " one\n",
      " two\n"
     ]
    },
    {
     "name": "stdout",
     "output_type": "stream",
     "text": [
      "['one', 'two']\n"
     ]
    },
    {
     "name": "stdin",
     "output_type": "stream",
     "text": [
      " three\n",
      " four\n"
     ]
    },
    {
     "name": "stdout",
     "output_type": "stream",
     "text": [
      "['one', 'two', 'three', 'four']\n"
     ]
    },
    {
     "name": "stdin",
     "output_type": "stream",
     "text": [
      " five\n",
      " six\n"
     ]
    },
    {
     "name": "stdout",
     "output_type": "stream",
     "text": [
      "['one', 'two', 'three', 'four', 'five', 'six']\n"
     ]
    }
   ],
   "source": [
    "input_data(2)\n",
    "input_data(2)\n",
    "input_data(2)"
   ]
  },
  {
   "cell_type": "code",
   "execution_count": 49,
   "id": "9f71c018-0e15-4b67-a29e-07801a2d20c7",
   "metadata": {},
   "outputs": [],
   "source": [
    "def input_data_correct(cnt, result=None):\n",
    "    if result is None:\n",
    "        result=[]\n",
    "    for i in range(cnt):\n",
    "        result.append(input())\n",
    "    print(result)"
   ]
  },
  {
   "cell_type": "code",
   "execution_count": 50,
   "id": "617d6652-6b68-4bbe-9539-8c7d9224e202",
   "metadata": {},
   "outputs": [
    {
     "name": "stdin",
     "output_type": "stream",
     "text": [
      " one\n",
      " two\n"
     ]
    },
    {
     "name": "stdout",
     "output_type": "stream",
     "text": [
      "['one', 'two']\n"
     ]
    },
    {
     "name": "stdin",
     "output_type": "stream",
     "text": [
      " three\n",
      " four\n"
     ]
    },
    {
     "name": "stdout",
     "output_type": "stream",
     "text": [
      "['three', 'four']\n"
     ]
    },
    {
     "name": "stdin",
     "output_type": "stream",
     "text": [
      " five\n",
      " six\n"
     ]
    },
    {
     "name": "stdout",
     "output_type": "stream",
     "text": [
      "['five', 'six']\n"
     ]
    }
   ],
   "source": [
    "input_data_correct(2)\n",
    "input_data_correct(2)\n",
    "input_data_correct(2)"
   ]
  },
  {
   "cell_type": "code",
   "execution_count": null,
   "id": "d70714eb-1fe3-4caf-86e1-1f945750224f",
   "metadata": {},
   "outputs": [],
   "source": []
  }
 ],
 "metadata": {
  "kernelspec": {
   "display_name": "Python 3 (ipykernel)",
   "language": "python",
   "name": "python3"
  },
  "language_info": {
   "codemirror_mode": {
    "name": "ipython",
    "version": 3
   },
   "file_extension": ".py",
   "mimetype": "text/x-python",
   "name": "python",
   "nbconvert_exporter": "python",
   "pygments_lexer": "ipython3",
   "version": "3.10.12"
  }
 },
 "nbformat": 4,
 "nbformat_minor": 5
}

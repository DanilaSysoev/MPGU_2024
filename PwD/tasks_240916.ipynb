{
 "cells": [
  {
   "cell_type": "markdown",
   "id": "0db1f921-7f8a-4961-9ede-fb70b6f70eda",
   "metadata": {},
   "source": [
    "### Для всех задач в качестве исходных данных используется массив случайных целых чисел в диапазоне от 0 до 100 заданного размера\n",
    "### (размер вводится)"
   ]
  },
  {
   "cell_type": "markdown",
   "id": "8d2216e0-3115-4be7-9058-96db77a42ee2",
   "metadata": {},
   "source": [
    "#### 1. Выбрать из массива четного размера каждый второй элемент в отдельный массив"
   ]
  },
  {
   "cell_type": "markdown",
   "id": "fa2949d8-1249-4ca9-8110-e8d9b1e4e42d",
   "metadata": {},
   "source": [
    "#### 2. Обнулить элементы массива из заданного диапазона индексов (вводятся)"
   ]
  },
  {
   "cell_type": "markdown",
   "id": "9503abc9-7a40-4bf9-b133-95100b97b01a",
   "metadata": {},
   "source": [
    "#### 3. Создать массив, содержащий в i-й ячейке сумму каждого i-го элемента исходного массива"
   ]
  },
  {
   "cell_type": "markdown",
   "id": "2fece3ed-ad76-433f-bdd3-3f2f4290a54e",
   "metadata": {},
   "source": [
    "#### 4. Даны две матрицы одного размера (размеры вводятся). Проверить, есть ли в них совпадающие строки"
   ]
  },
  {
   "cell_type": "markdown",
   "id": "165431b8-6411-4a1d-ad66-dd6852bbf7a6",
   "metadata": {},
   "source": [
    "#### 5. Из данного массива выбрать элементы с индексами, остатки от деления на 10 которых меньше 5"
   ]
  }
 ],
 "metadata": {
  "kernelspec": {
   "display_name": "Python 3 (ipykernel)",
   "language": "python",
   "name": "python3"
  },
  "language_info": {
   "codemirror_mode": {
    "name": "ipython",
    "version": 3
   },
   "file_extension": ".py",
   "mimetype": "text/x-python",
   "name": "python",
   "nbconvert_exporter": "python",
   "pygments_lexer": "ipython3",
   "version": "3.10.12"
  }
 },
 "nbformat": 4,
 "nbformat_minor": 5
}

{
 "cells": [
  {
   "cell_type": "markdown",
   "id": "325813af-2c5e-4919-bc2e-12745f05ae71",
   "metadata": {},
   "source": [
    "## Цикл wile"
   ]
  },
  {
   "cell_type": "code",
   "execution_count": 4,
   "id": "14f2f47b-7cbe-45c1-9286-e64987c56b40",
   "metadata": {},
   "outputs": [
    {
     "name": "stdin",
     "output_type": "stream",
     "text": [
      " 10\n"
     ]
    },
    {
     "name": "stdout",
     "output_type": "stream",
     "text": [
      "1\n",
      "2\n",
      "5\n",
      "10\n",
      "4\n"
     ]
    }
   ],
   "source": [
    "# Дано целое положительное число, вывести все его делители\n",
    "\n",
    "num = int(input())\n",
    "\n",
    "divider = 1\n",
    "count = 0\n",
    "\n",
    "while divider <= num:\n",
    "    if num % divider == 0:\n",
    "        count += 1\n",
    "        print(divider)\n",
    "    divider += 1\n",
    "\n",
    "print(count)\n"
   ]
  },
  {
   "cell_type": "code",
   "execution_count": 6,
   "id": "dc17e535-d510-4dd7-9cfe-b4b8ea90ba3c",
   "metadata": {},
   "outputs": [
    {
     "name": "stdin",
     "output_type": "stream",
     "text": [
      "Загадано двузначное число. Попробуйте угадать (если сдаетесь, введите -1)\n",
      " 34\n",
      "Загадано двузначное число. Попробуйте угадать (если сдаетесь, введите -1)\n",
      " 56\n",
      "Загадано двузначное число. Попробуйте угадать (если сдаетесь, введите -1)\n",
      " -1\n"
     ]
    },
    {
     "name": "stdout",
     "output_type": "stream",
     "text": [
      "Очень жаль, попробуйте еще раз.\n"
     ]
    }
   ],
   "source": [
    "# прграмма загадывает число, пользователь пытается угадать.\n",
    "\n",
    "secret = 12\n",
    "\n",
    "user_try = -1\n",
    "\n",
    "while user_try != secret:    \n",
    "    user_try = int(input('Загадано двузначное число. Попробуйте угадать (если сдаетесь, введите -1)\\n'))\n",
    "    if user_try == -1:\n",
    "        break\n",
    "\n",
    "if user_try != -1:\n",
    "    print('Поздравляем, вы угадали!')\n",
    "else:\n",
    "    print('Очень жаль, попробуйте еще раз.')\n",
    "    \n",
    "    "
   ]
  },
  {
   "cell_type": "code",
   "execution_count": 7,
   "id": "b4fb0c2e-063e-43ce-8c41-3b703aa8cb02",
   "metadata": {},
   "outputs": [
    {
     "name": "stdin",
     "output_type": "stream",
     "text": [
      "Загадано двузначное число. Попробуйте угадать (если сдаетесь, введите -1)\n",
      " 6\n"
     ]
    },
    {
     "name": "stdout",
     "output_type": "stream",
     "text": [
      "Загадано двузначное число.\n"
     ]
    },
    {
     "name": "stdin",
     "output_type": "stream",
     "text": [
      "Загадано двузначное число. Попробуйте угадать (если сдаетесь, введите -1)\n",
      " 13\n",
      "Загадано двузначное число. Попробуйте угадать (если сдаетесь, введите -1)\n",
      " 12\n"
     ]
    },
    {
     "name": "stdout",
     "output_type": "stream",
     "text": [
      "Поздравляем, вы угадали!\n"
     ]
    }
   ],
   "source": [
    "# прграмма загадывает число, пользователь пытается угадать.\n",
    "\n",
    "secret = 12\n",
    "\n",
    "user_try = -1\n",
    "\n",
    "while user_try != secret:    \n",
    "    user_try = int(input('Загадано двузначное число. Попробуйте угадать (если сдаетесь, введите -1)\\n'))\n",
    "    if user_try >= 0 and (user_try < 10 or user_try > 99):\n",
    "        print('Загадано двузначное число.')\n",
    "        continue\n",
    "    if user_try == -1:\n",
    "        break\n",
    "        \n",
    "\n",
    "if user_try != -1:\n",
    "    print('Поздравляем, вы угадали!')\n",
    "else:\n",
    "    print('Очень жаль, попробуйте еще раз.')"
   ]
  },
  {
   "cell_type": "code",
   "execution_count": 11,
   "id": "8da6df41-831f-4ea0-a8e6-24814b4bfd1c",
   "metadata": {},
   "outputs": [
    {
     "name": "stdin",
     "output_type": "stream",
     "text": [
      " 10\n",
      " 10\n"
     ]
    },
    {
     "name": "stdout",
     "output_type": "stream",
     "text": [
      "1\n",
      "2\n",
      "5\n",
      "Слишком мало делителей\n"
     ]
    }
   ],
   "source": [
    "# Дано два числа, Требуется посчитать делители первого, которые меньше второго. Если таких делителей не больше 5, вывести сообщение.\n",
    "\n",
    "num1 = int(input())\n",
    "num2 = int(input())\n",
    "\n",
    "divider = 1\n",
    "count = 0\n",
    "\n",
    "while divider <= num1 and divider < num2:\n",
    "    if num1 % divider == 0:\n",
    "        count += 1\n",
    "        print(divider)\n",
    "    divider += 1\n",
    "    if count > 5:\n",
    "        break\n",
    "\n",
    "else:\n",
    "    print('Слишком мало делителей')\n"
   ]
  },
  {
   "cell_type": "markdown",
   "id": "9eab25c6-3ca6-4b35-b3c7-8c8697c21282",
   "metadata": {},
   "source": [
    "## Цикл for"
   ]
  },
  {
   "cell_type": "code",
   "execution_count": 12,
   "id": "7850bb2e-3e5c-4cb4-b572-46ea7076c2d2",
   "metadata": {},
   "outputs": [
    {
     "name": "stdin",
     "output_type": "stream",
     "text": [
      " 5\n",
      " 15\n"
     ]
    },
    {
     "name": "stdout",
     "output_type": "stream",
     "text": [
      "5 6 7 8 9 10 11 12 13 14 15 "
     ]
    }
   ],
   "source": [
    "# Дано два числа, вывести все числа от первого до второго включительно\n",
    "\n",
    "a = int(input())\n",
    "b = int(input())\n",
    "\n",
    "for num in range(a, b + 1):\n",
    "    print(num, end=' ')\n"
   ]
  },
  {
   "cell_type": "code",
   "execution_count": 13,
   "id": "9af4a96d-f4b5-436d-b580-6f4708f4a8c1",
   "metadata": {},
   "outputs": [
    {
     "name": "stdout",
     "output_type": "stream",
     "text": [
      "0 1 2 3 4 5 6 7 8 9 \n",
      "10 11 12 13 14 15 16 17 18 19 \n",
      "10 12 14 16 18 \n"
     ]
    }
   ],
   "source": [
    "for num in range(10):\n",
    "    print(num, end=' ')\n",
    "print()\n",
    "\n",
    "for num in range(10, 20):\n",
    "    print(num, end=' ')\n",
    "print()\n",
    "\n",
    "for num in range(10, 20, 2):\n",
    "    print(num, end=' ')\n",
    "print()"
   ]
  },
  {
   "cell_type": "code",
   "execution_count": 15,
   "id": "da7369b0-b3c5-4af1-addf-9274e8ee52f0",
   "metadata": {},
   "outputs": [
    {
     "name": "stdout",
     "output_type": "stream",
     "text": [
      "-10 -12 -14 -16 -18 \n"
     ]
    }
   ],
   "source": [
    "for num in range(-10, -20, -2):\n",
    "    print(num, end=' ')\n",
    "print()"
   ]
  },
  {
   "cell_type": "markdown",
   "id": "7dc49aae-fabc-4573-819e-35e1df3bb9fc",
   "metadata": {},
   "source": [
    "## List"
   ]
  },
  {
   "cell_type": "code",
   "execution_count": 1,
   "id": "6f67d0d6-8a22-49b3-a333-5d69bc7471bc",
   "metadata": {},
   "outputs": [
    {
     "name": "stdout",
     "output_type": "stream",
     "text": [
      "[10, '10', 10.0]\n"
     ]
    }
   ],
   "source": [
    "l1 = [10, '10', 10.0]\n",
    "print(l1)"
   ]
  },
  {
   "cell_type": "code",
   "execution_count": 2,
   "id": "92d8a80b-8134-4f11-aaf8-a98f4e36d683",
   "metadata": {},
   "outputs": [
    {
     "name": "stdout",
     "output_type": "stream",
     "text": [
      "[] []\n"
     ]
    }
   ],
   "source": [
    "l2 = []\n",
    "l3 = list()\n",
    "\n",
    "print(l2, l3)"
   ]
  },
  {
   "cell_type": "code",
   "execution_count": 3,
   "id": "7310d3c0-0f7c-4f23-ab71-18cfbc6793ef",
   "metadata": {},
   "outputs": [
    {
     "name": "stdout",
     "output_type": "stream",
     "text": [
      "[10, 11, 12, 13, 14, 15, 16, 17, 18, 19]\n"
     ]
    }
   ],
   "source": [
    "l4 = list(range(10, 20))\n",
    "print(l4)"
   ]
  },
  {
   "cell_type": "code",
   "execution_count": 4,
   "id": "2cbf2d2e-ed98-4435-ba79-49846696dac8",
   "metadata": {},
   "outputs": [
    {
     "name": "stdout",
     "output_type": "stream",
     "text": [
      "[10, '10', 10.0]\n"
     ]
    }
   ],
   "source": [
    "l5 = list(l1)\n",
    "print(l5)"
   ]
  },
  {
   "cell_type": "code",
   "execution_count": 5,
   "id": "28515850-bb76-42a1-86cf-7ccc4ccf40ca",
   "metadata": {},
   "outputs": [
    {
     "name": "stdout",
     "output_type": "stream",
     "text": [
      "[10, '10', 10.0]\n"
     ]
    }
   ],
   "source": [
    "l6 = l1.copy()\n",
    "print(l6)"
   ]
  },
  {
   "cell_type": "code",
   "execution_count": 8,
   "id": "1c8c04ad-b5fc-4a64-bec9-94b0167d5f23",
   "metadata": {},
   "outputs": [
    {
     "name": "stdout",
     "output_type": "stream",
     "text": [
      "[100, '10', 10.0]\n"
     ]
    }
   ],
   "source": [
    "l7 = l1\n",
    "print(l7)"
   ]
  },
  {
   "cell_type": "code",
   "execution_count": 9,
   "id": "8338be52-305c-4255-bafc-b97121f11426",
   "metadata": {},
   "outputs": [
    {
     "name": "stdout",
     "output_type": "stream",
     "text": [
      "l1:  [100, '10', 10.0]\n",
      "l5:  [10, '10', 10.0]\n",
      "l6:  [10, '10', 10.0]\n",
      "l7:  [100, '10', 10.0]\n"
     ]
    }
   ],
   "source": [
    "l1[0] = 100\n",
    "print('l1: ', l1)\n",
    "print('l5: ', l5)\n",
    "print('l6: ', l6)\n",
    "print('l7: ', l7)"
   ]
  },
  {
   "cell_type": "code",
   "execution_count": 19,
   "id": "edb431d6-f20f-4224-ae2c-3523174e8f76",
   "metadata": {},
   "outputs": [],
   "source": [
    "import copy"
   ]
  },
  {
   "cell_type": "code",
   "execution_count": 20,
   "id": "e3363397-28cf-463f-81c1-d8ac570f5d51",
   "metadata": {},
   "outputs": [
    {
     "name": "stdin",
     "output_type": "stream",
     "text": [
      " 3\n",
      " 3 3 4\n",
      " 5 4 3\n",
      " 4 3 2\n",
      " 0\n",
      " 4\n",
      " 2\n",
      " 4\n",
      " 2\n",
      " 4\n"
     ]
    },
    {
     "name": "stdout",
     "output_type": "stream",
     "text": [
      "0: 0.33333333333333304\n",
      "1: 0.33333333333333304\n",
      "2: 0.6666666666666665\n"
     ]
    }
   ],
   "source": [
    "data = []\n",
    "num = int(input())\n",
    "\n",
    "for i in range(num):\n",
    "    data.append(list(map(int, input().split())))\n",
    "\n",
    "data_new = copy.deepcopy(data)\n",
    "for i in range(num):\n",
    "    index = int(input())\n",
    "    data_new[i][index] = int(input())\n",
    "\n",
    "for i in range(num):\n",
    "    s1 = sum(data[i])\n",
    "    s2 = sum(data_new[i])\n",
    "    print(f'{i}: {s2 / 3 - s1 / 3}')"
   ]
  },
  {
   "cell_type": "code",
   "execution_count": null,
   "id": "7c830093-5f82-4fc2-8abe-bf779b05b415",
   "metadata": {},
   "outputs": [],
   "source": [
    " 3\n",
    " 3 3 4\n",
    " 5 4 3\n",
    " 4 3 2\n",
    " 0\n",
    " 4\n",
    " 2\n",
    " 4\n",
    " 2\n",
    " 4"
   ]
  }
 ],
 "metadata": {
  "kernelspec": {
   "display_name": "Python 3 (ipykernel)",
   "language": "python",
   "name": "python3"
  },
  "language_info": {
   "codemirror_mode": {
    "name": "ipython",
    "version": 3
   },
   "file_extension": ".py",
   "mimetype": "text/x-python",
   "name": "python",
   "nbconvert_exporter": "python",
   "pygments_lexer": "ipython3",
   "version": "3.10.12"
  }
 },
 "nbformat": 4,
 "nbformat_minor": 5
}

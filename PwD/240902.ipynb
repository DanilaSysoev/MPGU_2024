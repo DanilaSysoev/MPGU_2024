{
 "cells": [
  {
   "cell_type": "markdown",
   "id": "0bfc1f0a-cd03-4a3a-a2f3-42f8a4c0f400",
   "metadata": {},
   "source": [
    "## Занятие 02.09.2024\n",
    "### Введение в Python и Jupyter"
   ]
  },
  {
   "cell_type": "code",
   "execution_count": 2,
   "id": "6fbd6449-b69b-4bcf-a4d7-9a89654ff4ff",
   "metadata": {},
   "outputs": [],
   "source": [
    "a = 10"
   ]
  },
  {
   "cell_type": "code",
   "execution_count": 3,
   "id": "a8b8fe51-1efc-4e31-bf63-42fabd91c653",
   "metadata": {},
   "outputs": [
    {
     "name": "stdout",
     "output_type": "stream",
     "text": [
      "10\n"
     ]
    }
   ],
   "source": [
    "print(a)"
   ]
  },
  {
   "cell_type": "code",
   "execution_count": 4,
   "id": "0cce6192-957e-47de-8dfe-6d5089623090",
   "metadata": {},
   "outputs": [
    {
     "name": "stdout",
     "output_type": "stream",
     "text": [
      "100\n"
     ]
    }
   ],
   "source": [
    "print(a * a)"
   ]
  },
  {
   "cell_type": "code",
   "execution_count": 5,
   "id": "ade3d156-e6e8-4e98-bb3f-5150fcb479fa",
   "metadata": {},
   "outputs": [],
   "source": [
    "a = 100"
   ]
  },
  {
   "cell_type": "code",
   "execution_count": 8,
   "id": "902bacc6-5ec5-47a0-a86e-0438e3ca8ef2",
   "metadata": {},
   "outputs": [
    {
     "name": "stdout",
     "output_type": "stream",
     "text": [
      "10\n"
     ]
    }
   ],
   "source": [
    "print(a)"
   ]
  },
  {
   "cell_type": "code",
   "execution_count": null,
   "id": "5ecc783f-f9e3-44bd-8b19-7b33e85c24b1",
   "metadata": {},
   "outputs": [],
   "source": []
  },
  {
   "cell_type": "code",
   "execution_count": null,
   "id": "66ea7261-b6b3-464d-af9d-8778cc6a3b11",
   "metadata": {},
   "outputs": [],
   "source": []
  }
 ],
 "metadata": {
  "kernelspec": {
   "display_name": "Python 3 (ipykernel)",
   "language": "python",
   "name": "python3"
  },
  "language_info": {
   "codemirror_mode": {
    "name": "ipython",
    "version": 3
   },
   "file_extension": ".py",
   "mimetype": "text/x-python",
   "name": "python",
   "nbconvert_exporter": "python",
   "pygments_lexer": "ipython3",
   "version": "3.10.12"
  }
 },
 "nbformat": 4,
 "nbformat_minor": 5
}
